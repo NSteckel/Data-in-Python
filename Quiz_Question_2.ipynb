{
  "nbformat": 4,
  "nbformat_minor": 0,
  "metadata": {
    "colab": {
      "provenance": [],
      "authorship_tag": "ABX9TyP7Q3DdQBqu44cyVnrjWWK1",
      "include_colab_link": true
    },
    "kernelspec": {
      "name": "python3",
      "display_name": "Python 3"
    },
    "language_info": {
      "name": "python"
    }
  },
  "cells": [
    {
      "cell_type": "markdown",
      "metadata": {
        "id": "view-in-github",
        "colab_type": "text"
      },
      "source": [
        "<a href=\"https://colab.research.google.com/github/NSteckel/Data-in-Python/blob/main/Quiz_Question_2.ipynb\" target=\"_parent\"><img src=\"https://colab.research.google.com/assets/colab-badge.svg\" alt=\"Open In Colab\"/></a>"
      ]
    },
    {
      "cell_type": "markdown",
      "source": [
        "- How many records are in the dataset?\n",
        "- What year is the oldest song in the dataset from?\n",
        "- What is the most popular song in the dataset?\n",
        "- How many unique genres are there?\n",
        "- What is the most popular genre?\n",
        "- Who is the artist of the longest song name?\n",
        "- What is the total duration of songs in ms?"
      ],
      "metadata": {
        "id": "hjoL7yMAQQp2"
      }
    },
    {
      "cell_type": "code",
      "execution_count": null,
      "metadata": {
        "id": "3kImFzRCPWki"
      },
      "outputs": [],
      "source": [
        "from google.colab import drive\n",
        "drive.mount('/content/drive/')"
      ]
    },
    {
      "cell_type": "code",
      "source": [
        "import pandas as pd\n",
        "import io"
      ],
      "metadata": {
        "id": "lsx4OIr6QkB6"
      },
      "execution_count": null,
      "outputs": []
    },
    {
      "cell_type": "code",
      "source": [
        "from pandas.core.api import DataFrame\n",
        "file_path = \"/content/drive/MyDrive/Important Docs/songs_normalize.csv\" # Change file path when testing\n",
        "df = pd.read_csv(file_path)\n"
      ],
      "metadata": {
        "id": "uKdfjtTwQvqI"
      },
      "execution_count": null,
      "outputs": []
    },
    {
      "cell_type": "code",
      "source": [
        "# How many records are in the dataset?\n",
        "\n",
        "print('There are', df.shape[0], 'rows in the dataset')"
      ],
      "metadata": {
        "id": "YWk77mE8RZiR"
      },
      "execution_count": null,
      "outputs": []
    },
    {
      "cell_type": "code",
      "source": [
        "# What year is the oldest song in the dataset from?\n",
        "\n",
        "yearrow = df.sort_values(['year']).head(1)\n",
        "print(\"The oldest song's release year\")\n",
        "yearrow.iloc[:, [4]]"
      ],
      "metadata": {
        "id": "jzr-EpVZR4rt"
      },
      "execution_count": null,
      "outputs": []
    },
    {
      "cell_type": "code",
      "source": [
        "# What is the most popular song in the dataset?\n",
        "\n",
        "popurow = df.sort_values(['popularity'], ascending = False).head(1)\n",
        "print(\"This dataset's most popular song is:\")\n",
        "popurow"
      ],
      "metadata": {
        "id": "2v2S6KJwSVzz"
      },
      "execution_count": null,
      "outputs": []
    },
    {
      "cell_type": "code",
      "source": [
        "# How many unique genres are there?\n",
        "\n",
        "Split = df.assign(genre = df.genre.str.split(\", \"))\n",
        "Boom = Split.explode(\"genre\")\n",
        "genreNum = Boom.sort_values('popularity', ascending = False).groupby(\"genre\").first()\n",
        "print(\"There are\", genreNum.shape[0], \"unique genres in this dataset\")"
      ],
      "metadata": {
        "id": "k4z4K38yUPS9"
      },
      "execution_count": null,
      "outputs": []
    },
    {
      "cell_type": "code",
      "source": [
        "# What is the most popular genre?\n",
        "\n",
        "poppop = df.groupby(['genre']).size()\n",
        "genrepop = poppop.sort_values(ascending = False).head(1) \n",
        "print(\"The most popular genre is:\", genrepop)"
      ],
      "metadata": {
        "colab": {
          "base_uri": "https://localhost:8080/"
        },
        "id": "QafoVqHEVfvx",
        "outputId": "02739595-6f58-4e9b-9f19-a25bfe6fcd6b"
      },
      "execution_count": null,
      "outputs": [
        {
          "output_type": "stream",
          "name": "stdout",
          "text": [
            "The most popular genre is: genre\n",
            "pop    428\n",
            "dtype: int64\n"
          ]
        }
      ]
    },
    {
      "cell_type": "code",
      "source": [
        "# Who is the artist of the longest song name?\n",
        "\n",
        "songlist = df['song']\n",
        "songseries = songlist.str.len()\n",
        "\n",
        "# This returns the largest number of characters in a song name, and it's index (which is 1783)\n",
        "print(songseries.sort_values(ascending = False).head(1)) \n",
        "\n",
        "var1 = df.iloc[1783,0]\n",
        "var2 = df.iloc[1783,1]\n",
        "\n",
        "print(\"The song with the longest name is:\", var2, \"by\", var1)"
      ],
      "metadata": {
        "id": "arvRUK0PZUPJ"
      },
      "execution_count": null,
      "outputs": []
    },
    {
      "cell_type": "code",
      "source": [
        "# What is the total duration of songs in ms?\n",
        "\n",
        "song_sum = df.agg({'duration_ms':['sum']})\n",
        "print(\"The total duration of songs in the dataset is:\", song_sum)"
      ],
      "metadata": {
        "colab": {
          "base_uri": "https://localhost:8080/"
        },
        "id": "ODajtqUSX2ed",
        "outputId": "e624c51f-c07b-47a4-a330-2beeab480789"
      },
      "execution_count": null,
      "outputs": [
        {
          "output_type": "stream",
          "name": "stdout",
          "text": [
            "The total duration of songs in the dataset is:      duration_ms\n",
            "sum    457496249\n"
          ]
        }
      ]
    },
    {
      "cell_type": "code",
      "source": [],
      "metadata": {
        "id": "0LZ2R9Nbdmx8"
      },
      "execution_count": null,
      "outputs": []
    }
  ]
}