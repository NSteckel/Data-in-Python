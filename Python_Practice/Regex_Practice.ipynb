{
  "nbformat": 4,
  "nbformat_minor": 0,
  "metadata": {
    "colab": {
      "provenance": [],
      "collapsed_sections": [],
      "authorship_tag": "ABX9TyOppp5n6oxFPdxBP5C/jQ8M",
      "include_colab_link": true
    },
    "kernelspec": {
      "name": "python3",
      "display_name": "Python 3"
    },
    "language_info": {
      "name": "python"
    }
  },
  "cells": [
    {
      "cell_type": "markdown",
      "metadata": {
        "id": "view-in-github",
        "colab_type": "text"
      },
      "source": [
        "<a href=\"https://colab.research.google.com/github/NSteckel/Data-in-Python/blob/main/Regex_Practice.ipynb\" target=\"_parent\"><img src=\"https://colab.research.google.com/assets/colab-badge.svg\" alt=\"Open In Colab\"/></a>"
      ]
    },
    {
      "cell_type": "code",
      "execution_count": null,
      "metadata": {
        "id": "sMLuzH_UxqSg"
      },
      "outputs": [],
      "source": [
        "import re\n",
        "\n",
        "text = \"Cake\"\n",
        "\n",
        "print(text)\n",
        "\n",
        "txt = 'Welcome to Skillstorm.'\n",
        "\n",
        "\n",
        "match = re.match(r\"[\\w]+\", txt)\n",
        "print(match, \"!!\")\n",
        "\n",
        "match2 = re.findall(r\"[\\w]{4,}\", txt)\n",
        "print(match2)\n",
        "\n",
        "match3 = re.findall(r\"[\\w]{4}\", txt)\n",
        "print(match3)\n",
        "\n",
        "match4 = re.findall(r\"[e-l]{2,}\", txt)\n",
        "print(match4)"
      ]
    },
    {
      "cell_type": "code",
      "source": [
        "Phone_Text = \"\"\"Hello, my name is Nate.\n",
        "My phone number is (510)527-3578. \n",
        "My dad's number is (510)-555-8381\n",
        "My mom's number is (754) 469 5389\n",
        "My sister's number is (123) 411-5933\n",
        "It could also be 555-1218-1124. \n",
        "Or 123 456 9450\n",
        "Or maybe 234-759-003964\n",
        "Fine. 786-876-456-8765-395-3590-946-843-3568\n",
        "\"\"\"\n",
        "\n",
        "PhoneMatch = re.findall(r\"[0-9]{3}-[0-9]{3}-[0-9]{4}\", Phone_Text)\n",
        "#print(PhoneMatch)"
      ],
      "metadata": {
        "id": "09FSKEmUyP1M"
      },
      "execution_count": null,
      "outputs": []
    },
    {
      "cell_type": "code",
      "source": [
        "SuperPhone = re.findall(r\"\\([0-9]{3}\\)[0-9]{3}-[0-9]{4}\", Phone_Text)\n",
        "print(SuperPhone)"
      ],
      "metadata": {
        "id": "Djtpkzxw-0Xx"
      },
      "execution_count": null,
      "outputs": []
    },
    {
      "cell_type": "code",
      "source": [
        "# FinalPhone = re.findall(r\"\\([0-9]{3}\\)|([0-9]{3}-)[0-9]{3}-[0-9]{4}\", Phone_Text)\n",
        "FinalPhone = re.findall(\"\\(?[0-9]{3}\\)?\\s?[\\s-][0-9]{3}[\\s-][0-9]{4}\",Phone_Text)\n",
        "print(FinalPhone)"
      ],
      "metadata": {
        "id": "5hAa8TNw_7o-"
      },
      "execution_count": null,
      "outputs": []
    },
    {
      "cell_type": "code",
      "source": [
        "fakker = \"(510)666-192, (434) 244 9873, (544) 243-2345\"\n",
        "\n",
        "PhoneMatch = re.findall(r\"\\([0-9]{3}\\)[0-9]{3}-[0-9]{4}\", fakker)\n",
        "print(PhoneMatch)"
      ],
      "metadata": {
        "id": "UOTNIHoRBCrq"
      },
      "execution_count": null,
      "outputs": []
    },
    {
      "cell_type": "code",
      "source": [
        "SuperPhone = re.findall(r\"\\([0-9]{3}\\)[0-9]{3}-[0-9]{4}\", fakker)\n",
        "print(SuperPhone)"
      ],
      "metadata": {
        "id": "yLXu-jqPFX5B"
      },
      "execution_count": null,
      "outputs": []
    },
    {
      "cell_type": "code",
      "source": [],
      "metadata": {
        "id": "TTJFZ1hIF5Cj"
      },
      "execution_count": null,
      "outputs": []
    }
  ]
}
