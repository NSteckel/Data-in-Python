{
  "nbformat": 4,
  "nbformat_minor": 0,
  "metadata": {
    "colab": {
      "provenance": [],
      "authorship_tag": "ABX9TyPBZWL79Hpab9XVdqF/8EkS",
      "include_colab_link": true
    },
    "kernelspec": {
      "name": "python3",
      "display_name": "Python 3"
    },
    "language_info": {
      "name": "python"
    }
  },
  "cells": [
    {
      "cell_type": "markdown",
      "metadata": {
        "id": "view-in-github",
        "colab_type": "text"
      },
      "source": [
        "<a href=\"https://colab.research.google.com/github/NSteckel/Data-in-Python/blob/main/Quiz_Question_1.ipynb\" target=\"_parent\"><img src=\"https://colab.research.google.com/assets/colab-badge.svg\" alt=\"Open In Colab\"/></a>"
      ]
    },
    {
      "cell_type": "markdown",
      "source": [
        "Piedmont Insurance is developing an application to enable their customers to submit car insurance claims online. They have already built a partial online application, and just need a Python class for an insurance claim to capture the following information.\n",
        "\n",
        "---\n",
        "- type: The type of the insurance claim - Collision, Comprehensive, etc.\n",
        "\n",
        "- description: A description of the incident.\n",
        "\n",
        "- submitted_time: An auto-generated timestamp when the claim is filed.\n",
        "\n",
        "- incident_date: The date and time that the incident occurred at.\n",
        "- claimant: The full name of the person filing the claim.\n",
        "- defendant: The full name of the person who is at fault for the accident. \n",
        "- amount: The amount (USD) of damages caused in the accident.\n",
        "\n",
        "---\n",
        "All of the properties should be captured when an instance of the class is instantiated except for the 'amount' field which should be added through a 'appraise' method. The class should contain an unimplemented method to issue a payment. Finally there should be a method that can be used to persist an instance of the class, with all of its properties to a csv or JSON file. Submit your final code, following proper Python coding conventions and styling guidelines either as a Jupyter Notebook or Python file."
      ],
      "metadata": {
        "id": "pFsGQ_LGAybz"
      }
    },
    {
      "cell_type": "code",
      "execution_count": null,
      "metadata": {
        "colab": {
          "base_uri": "https://localhost:8080/"
        },
        "id": "FH4zdWoM_YJb",
        "outputId": "afec78f6-6515-422a-a1aa-9a605f5d6265"
      },
      "outputs": [
        {
          "output_type": "stream",
          "name": "stdout",
          "text": [
            "Comprehensive insurance claim filed by John on 2022-09-26 14:37:18.120188 due to Aaron Jones rear ending a tractor on Septemer 17th\n"
          ]
        }
      ],
      "source": [
        "import datetime \n",
        "import csv\n",
        "\n",
        "class InsuranceClaim(object):\n",
        "  def __init__(self, type, description, incident_date, claimant, defendant):\n",
        "    self.type = type\n",
        "    self.description = description\n",
        "    self.incident_date = incident_date\n",
        "    self.claimant = claimant\n",
        "    self.defendant = defendant\n",
        "\n",
        "  def getSubmitted(claimant):\n",
        "    x = datetime.datetime.now()\n",
        "\n",
        "    #y = \"{claimant submitted claim at\", x\n",
        "    return x\n",
        "\n",
        "def appraise(object, amount):\n",
        "    payment = amount # some other modifiers not used\n",
        "    pass\n",
        "    #return amount (not used according to assignment description)\n",
        "    # call with something like: appraise(Claims.Claim1, 'amount') # not used yet\n",
        "\n",
        "\n",
        "Claims = [\n",
        "    # Claim1, Claim2, etc. inserted into 'Claims' list for ease of readign to csv\n",
        "    InsuranceClaim(\"Comprehensive\", \"rear ending a tractor\", \"Septemer 17th\", \"John\", \"Aaron Jones\"),\n",
        "    InsuranceClaim(\"Comprehensive\", \"t-boned a chevy\", \"August 20th\", \"Robert Daines\", \"Ava Deller\"),\n",
        "]\n",
        "  \n",
        "def Claim_to_file():\n",
        "  with open('Claims.csv', 'w', newline='') as csvfile:\n",
        "    claimwriter = csv.writer(csvfile, delimiter=' ') # , quotechar='|', quoting=csv.QUOTE_MINIMAL)\n",
        "    claimwriter.writerows(Claims)\n",
        "    \n",
        "z = Claims[0].getSubmitted()\n",
        "print(Claims[0].type, \"insurance claim filed by\", Claims[0].claimant, \"on\", z, \"due to\", Claims[0].defendant, Claims[0].description, \"on\", Claims[0].incident_date)\n",
        "\n"
      ]
    },
    {
      "cell_type": "code",
      "source": [],
      "metadata": {
        "id": "8sqV2KPMDtgn"
      },
      "execution_count": null,
      "outputs": []
    }
  ]
}