{
  "nbformat": 4,
  "nbformat_minor": 0,
  "metadata": {
    "colab": {
      "provenance": [],
      "include_colab_link": true
    },
    "kernelspec": {
      "name": "python3",
      "display_name": "Python 3"
    },
    "language_info": {
      "name": "python"
    }
  },
  "cells": [
    {
      "cell_type": "markdown",
      "metadata": {
        "id": "view-in-github",
        "colab_type": "text"
      },
      "source": [
        "<a href=\"https://colab.research.google.com/github/NSteckel/Data-in-Python/blob/main/Dates_and_Times.ipynb\" target=\"_parent\"><img src=\"https://colab.research.google.com/assets/colab-badge.svg\" alt=\"Open In Colab\"/></a>"
      ]
    },
    {
      "cell_type": "markdown",
      "source": [
        "## Dates and Times\n"
      ],
      "metadata": {
        "id": "Hr0SESJpfuqW"
      }
    },
    {
      "cell_type": "markdown",
      "source": [
        "#### Introduction"
      ],
      "metadata": {
        "id": "_86Y9eLbglgw"
      }
    },
    {
      "cell_type": "code",
      "execution_count": null,
      "metadata": {
        "id": "ZpofcvJafqFh"
      },
      "outputs": [],
      "source": [
        "# Dates and times are maintained through the datetime and time modules\n",
        "\n",
        "import datetime\n",
        "import time\n",
        "\n",
        "# May also see this\n",
        "# from datetime import datetime, date\n",
        "# datetime.datetime.now()"
      ]
    },
    {
      "cell_type": "markdown",
      "source": [
        "#### Formatting"
      ],
      "metadata": {
        "id": "EoSZ2lc5ilc3"
      }
    },
    {
      "cell_type": "code",
      "source": [
        "# Datetimes are formatted: Year, month, day, hour, minute, second, microseconds\n",
        "\n",
        "print(datetime.datetime.now())\n",
        "print(datetime.date.today())"
      ],
      "metadata": {
        "colab": {
          "base_uri": "https://localhost:8080/"
        },
        "id": "KDvmMM99gL9l",
        "outputId": "8abef5cb-d4a5-4905-89dd-91d671e07d4f"
      },
      "execution_count": null,
      "outputs": [
        {
          "output_type": "stream",
          "name": "stdout",
          "text": [
            "2022-09-20 15:26:03.034600\n",
            "2022-09-20\n"
          ]
        }
      ]
    },
    {
      "cell_type": "markdown",
      "source": [
        "- Standardized way to format/read dates and times\n",
        "- We can use the strftime() and pass the specific format we want\n",
        "- Use the table https://www.w3schools.com/python/python_datetime.asp\n",
        "- Frequent use ones %y, %m, %d (year, month, day respectively)"
      ],
      "metadata": {
        "id": "Eb1ERZQQg5vj"
      }
    },
    {
      "cell_type": "code",
      "source": [
        "now = datetime.datetime.now()\n",
        "print(now)\n",
        "print()\n",
        "print(now.strftime('%A'))\n",
        "print(now.strftime('%B %d, %Y')) # Case sensitive!! Also preserves punctuation, so try with and without commas\n",
        "print(now.strftime('%d-%m-%Y'))\n",
        "print(now.strftime('%H:%M:%S'))\n",
        "print()\n",
        "print(now.strftime('%d/%m/%y'))\n",
        "\n",
        "# Unqualified times are stored without a timezone"
      ],
      "metadata": {
        "id": "MzunCA4OgRlp"
      },
      "execution_count": null,
      "outputs": []
    },
    {
      "cell_type": "code",
      "source": [
        "# Time and datetime objects are qualified with a timezone\n",
        "# By default it does NOT store a timezone\n",
        "# Always normalize timezones before storing the time in a production system\n",
        "now = datetime.datetime.utcnow()\n",
        "\n",
        "# We frequently need to do the opposite of a format time\n",
        "# We read a date in string format and need to extract the date/datetime object\n",
        "string_date = '06-15-2022'\n",
        "date = datetime.datetime.strptime(string_date, '%m-%d-%Y')\n",
        "print(date)\n"
      ],
      "metadata": {
        "id": "haoXHS6jhSQD"
      },
      "execution_count": null,
      "outputs": []
    },
    {
      "cell_type": "markdown",
      "source": [
        "#### Working with Unix Time"
      ],
      "metadata": {
        "id": "Zlq4Djnvk5B-"
      }
    },
    {
      "cell_type": "markdown",
      "source": [
        "- Unix Timestamp \n",
        "- Unix Epoch - Jan 1st, 1970 00:00:00 UTC\n",
        "- Unix timestamp is the seconds since the unix Epoch\n",
        "- Store dates and times as an int, float\n",
        "- 32 bit integer overflow ~ Jan 19th, 2038"
      ],
      "metadata": {
        "id": "e8GkLf6nj32g"
      }
    },
    {
      "cell_type": "code",
      "source": [
        "import time\n",
        "now = int(time.time())\n",
        "print(now)\n",
        "\n",
        "date_time = datetime.datetime.fromtimestamp(now)\n",
        "print(date_time)"
      ],
      "metadata": {
        "id": "yR_NOi7_jHNx"
      },
      "execution_count": null,
      "outputs": []
    },
    {
      "cell_type": "code",
      "source": [
        "# Easily convert to Unix time with common time measurements\n",
        "\n",
        "now -= 60*60*24\n",
        "date_time = datetime.datetime.fromtimestamp(now)\n",
        "print(date_time)"
      ],
      "metadata": {
        "id": "mRZug47xkaSo"
      },
      "execution_count": null,
      "outputs": []
    },
    {
      "cell_type": "code",
      "source": [
        "}delta = datetime.timedelta(\n",
        "    days = 50,\n",
        "    seconds = 27,\n",
        "    hours = 8\n",
        ")\n",
        "\n",
        "now = datetime.datetime.now()\n",
        "print(now-delta)"
      ],
      "metadata": {
        "colab": {
          "base_uri": "https://localhost:8080/"
        },
        "id": "RUNeQZMtlDMh",
        "outputId": "3fd35cf8-bd03-4cff-ae58-f1cea9b50734"
      },
      "execution_count": null,
      "outputs": [
        {
          "output_type": "stream",
          "name": "stdout",
          "text": [
            "2022-08-01 07:47:48.048249\n"
          ]
        }
      ]
    },
    {
      "cell_type": "code",
      "source": [],
      "metadata": {
        "id": "YH6r1Cn5lela"
      },
      "execution_count": null,
      "outputs": []
    }
  ]
}
