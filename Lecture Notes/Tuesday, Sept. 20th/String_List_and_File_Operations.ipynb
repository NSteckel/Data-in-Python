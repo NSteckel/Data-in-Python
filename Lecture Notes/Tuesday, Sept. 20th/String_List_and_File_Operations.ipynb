{
  "nbformat": 4,
  "nbformat_minor": 0,
  "metadata": {
    "colab": {
      "provenance": [],
      "authorship_tag": "ABX9TyPBibqf+vPvANeTgcIZpL/T",
      "include_colab_link": true
    },
    "kernelspec": {
      "name": "python3",
      "display_name": "Python 3"
    },
    "language_info": {
      "name": "python"
    }
  },
  "cells": [
    {
      "cell_type": "markdown",
      "metadata": {
        "id": "view-in-github",
        "colab_type": "text"
      },
      "source": [
        "<a href=\"https://colab.research.google.com/github/NSteckel/Data-in-Python/blob/main/String_List_and_File_Operations.ipynb\" target=\"_parent\"><img src=\"https://colab.research.google.com/assets/colab-badge.svg\" alt=\"Open In Colab\"/></a>"
      ]
    },
    {
      "cell_type": "markdown",
      "source": [
        "# String, List and File Operations"
      ],
      "metadata": {
        "id": "oP3PYgpv3_R_"
      }
    },
    {
      "cell_type": "markdown",
      "source": [
        "#### String Operations"
      ],
      "metadata": {
        "id": "CBQ641qS4Eua"
      }
    },
    {
      "cell_type": "code",
      "execution_count": null,
      "metadata": {
        "id": "38j1jgIy3357"
      },
      "outputs": [],
      "source": [
        "# Print to the console\n",
        "print(\"Hello\")\n",
        "\n",
        "# Multiline strings with triple quotes\n",
        "m1 = \"\"\"\n",
        "This string will\n",
        "even work with\n",
        "multiple lines.\n",
        "\"\"\"\n",
        "print(m1)"
      ]
    },
    {
      "cell_type": "code",
      "source": [
        "# Strings are byte arrays in python\n",
        "# There is no char type\n",
        "\n",
        "# We can index into strings with the standard 0 based index\n",
        "print(m1[4])\n",
        "\n",
        "# Loops in python\n",
        "# For and While\n",
        "# To print on a single line with multiple prints use end=''\n",
        "for char in \"Hippopotamus\":\n",
        "  print(char.upper(), end='')\n",
        "\n",
        "print(len('Hippopotamus'))\n",
        "if 'popo' in 'hippopotamus':\n",
        "  print('True')"
      ],
      "metadata": {
        "id": "fENa5ISj41sq"
      },
      "execution_count": null,
      "outputs": []
    },
    {
      "cell_type": "code",
      "source": [
        "# Modifying strings\n",
        "\n",
        "# Change the casing\n",
        "b = 'This is a string.'\n",
        "print(b.upper())\n",
        "print(b.lower())\n",
        "print(b.title())\n",
        "\n",
        "\n",
        "# Replace a part of the string\n",
        "# string.replace('old', 'new')\n",
        "b.replace('string', 'sentence')\n"
      ],
      "metadata": {
        "id": "0rYb-LPs5LmF"
      },
      "execution_count": null,
      "outputs": []
    },
    {
      "cell_type": "code",
      "source": [
        "# Messy strings\n",
        "# strip() and split()\n",
        "c = \"    This is a messy string.   ,\"\n",
        "c = c.strip(\" ,\")\n",
        "print(c)\n",
        "\n",
        "d = \",,,,rttgg......banana......rrr\"\n",
        "dip = d.strip(',.grt')\n",
        "print(dip)\n",
        "\n",
        "# split() to separate strings into a list of words\n",
        "words = c.split()\n",
        "print(words)\n",
        "\n",
        "# Usually combine the two\n",
        "e = \"   This is a messy string. This is a second instance   \"\n",
        "woe = e.strip(\" .\").split(\" \")\n",
        "print(woe)\n",
        "\n",
        "# Set of all words in the 'woe' string, no duplicates. Order also gets changed\n",
        "unique_words = set(woe)\n",
        "print(unique_words)\n",
        "\n",
        "# Strip a specific side\n",
        "print(e.rstrip())\n",
        "print(e.lstrip())\n"
      ],
      "metadata": {
        "id": "n1uyn5Fs5zHk"
      },
      "execution_count": null,
      "outputs": []
    },
    {
      "cell_type": "code",
      "source": [
        "# Combining strings!!\n",
        "\n",
        "one = 'Hello'\n",
        "two = 'World!'\n",
        "print( one + ' ' + two)\n",
        "print(f\"{one} {two}\")\n",
        "print(one, two)\n",
        "\n",
        "print(\"There's no issue here.\")\n",
        "print('How about \"this?\"')\n",
        "print('This isn\\'t a problem.')\n",
        "\n",
        "# Text files have a line-ending character.\n",
        "# For windowns it's \\r\\, and for linux/mac it's \\n.\n",
        "\n",
        "# check other escape characters in python"
      ],
      "metadata": {
        "colab": {
          "base_uri": "https://localhost:8080/"
        },
        "id": "y8WnTFgf6UeV",
        "outputId": "c7b5ad0c-bd03-402a-a55f-696795456f8c"
      },
      "execution_count": null,
      "outputs": [
        {
          "output_type": "stream",
          "name": "stdout",
          "text": [
            "Hello World!\n",
            "Hello World!\n",
            "Hello World!\n",
            "There's no issue here.\n",
            "How about \"this?\"\n",
            "This isn't a problem.\n"
          ]
        }
      ]
    },
    {
      "cell_type": "code",
      "source": [
        "# Dynamic Strings\n",
        "name = input(\"What is your name? \")\n",
        "text = \"Hello {0}!\".format(name)\n",
        "print(text)\n",
        "\n",
        "# f'string\n",
        "text = f'Welcome {name}'\n",
        "print(text)\n",
        "\n",
        "# r'string (raw string)\n",
        "print('\\\\//\\\\//')\n",
        "print(r'\\\\//\\\\//')\n",
        "\n",
        "# b-string\n",
        "# byte string\n",
        "# they're stored in memory (in bytes) rather than as an object\n",
        "bstring = b'Hello'\n",
        "print(bstring)"
      ],
      "metadata": {
        "colab": {
          "base_uri": "https://localhost:8080/"
        },
        "id": "_UIuf8VE8YIZ",
        "outputId": "699eadf9-0775-432a-ae48-4d51e0b335c3"
      },
      "execution_count": null,
      "outputs": [
        {
          "output_type": "stream",
          "name": "stdout",
          "text": [
            "What is your name? nateee\n",
            "Hello nateee!\n",
            "Welcome nateee\n",
            "\\//\\//\n",
            "\\\\//\\\\//\n",
            "b'Hello'\n"
          ]
        }
      ]
    },
    {
      "cell_type": "markdown",
      "source": [
        "- String Encoding\n",
        "- Computers can't store letters and symbols in memory\n",
        "- It must convert the human-readable characters into bytes\n",
        "- When text is saved to disk it is stored as a series of bytes with a schema\n",
        "- There are several different ways to encode the text we see into bytes.\n",
        "- Python uses ASCII encodings by default (1-128)\n",
        "- There are other options though\n",
        "\n",
        "- URLs with funky characters"
      ],
      "metadata": {
        "id": "hNZdYezm_BYw"
      }
    },
    {
      "cell_type": "code",
      "source": [
        "print('\\u265E')\n",
        "url = 'www.example.com?var=This%20is%20a%20simple%20%26%20short%20test.'\n",
        "import urllib.parse\n",
        "print(urllib.parse.unquote(url))\n",
        "\n",
        "# Remember this for working with APIs"
      ],
      "metadata": {
        "id": "fzE8pPLL9r6F"
      },
      "execution_count": null,
      "outputs": []
    },
    {
      "cell_type": "markdown",
      "source": [
        "#### List Operations"
      ],
      "metadata": {
        "id": "ki6qfbb4CLMX"
      }
    },
    {
      "cell_type": "code",
      "source": [
        "# Lists\n",
        "\n",
        "fruits = ['apple', 'cherry', 'grape', 'kiwi', 'mango', 'orange', 'peach']\n",
        "\n",
        "# Index into lists with 0-based index\n",
        "print(fruits[1])\n",
        "\n",
        "# Python also supports negative indexes\n",
        "# -1 is the last item, -2 is the second to last\n",
        "print(fruits[-2])"
      ],
      "metadata": {
        "colab": {
          "base_uri": "https://localhost:8080/"
        },
        "id": "xfu-xvapAAFY",
        "outputId": "d1237245-0848-4fac-98c6-a466c478e48f"
      },
      "execution_count": null,
      "outputs": [
        {
          "output_type": "stream",
          "name": "stdout",
          "text": [
            "cherry\n",
            "orange\n"
          ]
        }
      ]
    },
    {
      "cell_type": "code",
      "source": [
        "# Slicing\n",
        "# Subset of the list\n",
        "# Slicing follows the format [start, stop, step] # includes element at start, stops with element before end\n",
        "\n",
        "fruits[1:3]\n",
        "\n",
        "fruits[0:9]\n",
        "\n",
        "# We still can't acess a specific out of bounds element\n",
        "# ' fruits[9] ' will return an error, as there is not element in that index\n",
        "\n",
        "print(fruits[:3]) # gets until index three\n",
        "print(fruits[3:]) # gets at index three and after"
      ],
      "metadata": {
        "colab": {
          "base_uri": "https://localhost:8080/"
        },
        "id": "R5skxAnZCjs6",
        "outputId": "66e46879-1354-4073-9c74-edff090533a4"
      },
      "execution_count": null,
      "outputs": [
        {
          "output_type": "stream",
          "name": "stdout",
          "text": [
            "['apple', 'cherry', 'grape']\n",
            "['kiwi', 'mango', 'orange', 'peach']\n"
          ]
        }
      ]
    },
    {
      "cell_type": "code",
      "source": [
        "# Reversing a list\n",
        "fruits.reverse()\n",
        "print(fruits)\n",
        "\n",
        "# Slicing reverse\n",
        "print(fruits[::-1])\n"
      ],
      "metadata": {
        "colab": {
          "base_uri": "https://localhost:8080/"
        },
        "id": "bo0QAdtUCvgJ",
        "outputId": "e366ef01-ec21-4022-ef72-c22d2dfa8a0b"
      },
      "execution_count": null,
      "outputs": [
        {
          "output_type": "stream",
          "name": "stdout",
          "text": [
            "['apple', 'cherry', 'grape', 'kiwi', 'mango', 'orange', 'peach']\n",
            "['peach', 'orange', 'mango', 'kiwi', 'grape', 'cherry', 'apple']\n",
            "None\n"
          ]
        }
      ]
    },
    {
      "cell_type": "code",
      "source": [
        "text = 'This is a string.'\n",
        "print(text[:4])\n",
        "print(text[4:])"
      ],
      "metadata": {
        "id": "EYkFIh5AEMlj"
      },
      "execution_count": null,
      "outputs": []
    },
    {
      "cell_type": "markdown",
      "source": [
        "- Manipulating Arrays\n",
        "- We can replace items with a given index or slice\n",
        "- If the length of the slice and replacement are different, the lsit will change lengths\n"
      ],
      "metadata": {
        "id": "_dTAu_idEovz"
      }
    },
    {
      "cell_type": "code",
      "source": [
        "fruits[1] = 'pineapple'\n",
        "fruits[-2:] = ['watermelon']\n",
        "print(fruits)\n",
        "\n",
        "# Add to a list\n",
        "fruits.append('strawberry')\n",
        "\n",
        "# insert at specific index\n",
        "fruits.insert(3, 'pomegranate')\n",
        "print(fruits)"
      ],
      "metadata": {
        "colab": {
          "base_uri": "https://localhost:8080/"
        },
        "id": "02TflXnYEgoi",
        "outputId": "51a62acd-b000-48a7-a971-e265b4c25f4a"
      },
      "execution_count": null,
      "outputs": [
        {
          "output_type": "stream",
          "name": "stdout",
          "text": [
            "['peach', 'pineapple', 'mango', 'kiwi', 'watermelon']\n",
            "['peach', 'pineapple', 'mango', 'pomegranate', 'kiwi', 'watermelon', 'strawberry']\n"
          ]
        }
      ]
    },
    {
      "cell_type": "code",
      "source": [
        "#combine two lists\n",
        "tropical = ['papaya', 'lemon']\n",
        "fruits.extend(tropical)\n",
        "print(fruits)"
      ],
      "metadata": {
        "colab": {
          "base_uri": "https://localhost:8080/"
        },
        "id": "RAxRUnJWFXdX",
        "outputId": "8d458d67-cfaa-475c-9215-8fe8aac296f3"
      },
      "execution_count": null,
      "outputs": [
        {
          "output_type": "stream",
          "name": "stdout",
          "text": [
            "['peach', 'pineapple', 'mango', 'pomegranate', 'kiwi', 'watermelon', 'strawberry', 'papaya', 'lemon']\n"
          ]
        }
      ]
    },
    {
      "cell_type": "code",
      "source": [
        "# can also use the + operator\n",
        "fruits += tropical\n",
        "print(fruits)"
      ],
      "metadata": {
        "colab": {
          "base_uri": "https://localhost:8080/"
        },
        "id": "BxY3m2w3FnZp",
        "outputId": "9d23b4c7-2ff6-43b4-956e-3f150e7a8699"
      },
      "execution_count": null,
      "outputs": [
        {
          "output_type": "stream",
          "name": "stdout",
          "text": [
            "['peach', 'pineapple', 'mango', 'pomegranate', 'kiwi', 'watermelon', 'strawberry', 'papaya', 'lemon', 'papaya', 'lemon']\n"
          ]
        }
      ]
    },
    {
      "cell_type": "code",
      "source": [
        "# removing elements\n",
        "# remove an element by value\n",
        "# remove() only gets rid of the first instance of the element specified\n",
        "fruits.remove('papaya')\n",
        "print(fruits)\n",
        "\n",
        "# remove and item by index with pop() = default index is the last element\n",
        "fruits.pop()\n",
        "fruits.pop(3)\n"
      ],
      "metadata": {
        "colab": {
          "base_uri": "https://localhost:8080/",
          "height": 54
        },
        "id": "7VvJInxqFwV_",
        "outputId": "f9449a73-79fd-4f6b-832a-7eda9971c30c"
      },
      "execution_count": null,
      "outputs": [
        {
          "output_type": "stream",
          "name": "stdout",
          "text": [
            "['peach', 'pineapple', 'mango', 'pomegranate', 'kiwi', 'watermelon', 'strawberry', 'lemon', 'lemon']\n"
          ]
        },
        {
          "output_type": "execute_result",
          "data": {
            "text/plain": [
              "'pomegranate'"
            ],
            "application/vnd.google.colaboratory.intrinsic+json": {
              "type": "string"
            }
          },
          "metadata": {},
          "execution_count": 57
        }
      ]
    },
    {
      "cell_type": "code",
      "source": [
        "del fruits[2]"
      ],
      "metadata": {
        "id": "6D4Zkg8RF3mE"
      },
      "execution_count": null,
      "outputs": []
    },
    {
      "cell_type": "code",
      "source": [
        "# Remove all occurences of an element \n",
        "\n",
        "# With a list comprehension\n",
        "# ' fruits = [fruit for fruit in fruits if fruit != 'papaya'] '\n",
        "\n",
        "#filter function\n",
        "#fruits = list(filter('pomegranate', fruits))\n",
        "\n"
      ],
      "metadata": {
        "id": "w_oZEDkxGfXo"
      },
      "execution_count": null,
      "outputs": []
    },
    {
      "cell_type": "code",
      "source": [
        "# Pythonic list looping \n",
        "# pural/singular forms of the noun \n",
        "\n",
        "for fruit in fruits:\n",
        "  print(fruit)\n",
        "\n",
        "print()\n",
        "\n",
        "# we can also loop by index with range and len methods\n",
        "for i in range(len(fruits)):\n",
        "  print(fruits[i])"
      ],
      "metadata": {
        "colab": {
          "base_uri": "https://localhost:8080/"
        },
        "id": "w-AtWQ6RGP01",
        "outputId": "24921367-ad80-4648-f177-8a617ec031c8"
      },
      "execution_count": null,
      "outputs": [
        {
          "output_type": "stream",
          "name": "stdout",
          "text": [
            "apple\n",
            "cherry\n",
            "grape\n",
            "kiwi\n",
            "mango\n",
            "orange\n",
            "peach\n",
            "\n",
            "apple\n",
            "cherry\n",
            "grape\n",
            "kiwi\n",
            "mango\n",
            "orange\n",
            "peach\n"
          ]
        }
      ]
    },
    {
      "cell_type": "code",
      "source": [
        "# for unknown lengths \n",
        "while fruits:\n",
        "  print(fruits.pop())"
      ],
      "metadata": {
        "colab": {
          "base_uri": "https://localhost:8080/"
        },
        "id": "1cb9IyU3JXRE",
        "outputId": "d496374c-02bb-4926-f6d5-75f80af648ba"
      },
      "execution_count": null,
      "outputs": [
        {
          "output_type": "stream",
          "name": "stdout",
          "text": [
            "peach\n",
            "orange\n",
            "mango\n",
            "kiwi\n",
            "grape\n",
            "cherry\n",
            "apple\n"
          ]
        }
      ]
    },
    {
      "cell_type": "code",
      "source": [
        "# list comprehensions\n",
        "capitalized_fruits = [fruit.title() for fruit in fruits]\n",
        "print(capitalized_fruits)\n",
        "\n",
        "a_fruits = [fruit for fruit in fruits if 'a' in fruit.lower()]\n",
        "\n",
        "print(a_fruits)"
      ],
      "metadata": {
        "colab": {
          "base_uri": "https://localhost:8080/"
        },
        "id": "m0XZ09x9Jv_J",
        "outputId": "dd2525c6-ada7-48c2-b022-4fdd24647cec"
      },
      "execution_count": null,
      "outputs": [
        {
          "output_type": "stream",
          "name": "stdout",
          "text": [
            "['Apple', 'Cherry', 'Grape', 'Kiwi', 'Mango', 'Orange', 'Peach']\n",
            "['apple', 'grape', 'mango', 'orange', 'peach']\n"
          ]
        }
      ]
    },
    {
      "cell_type": "code",
      "source": [
        "# filter and replace\n",
        "fruits_subbed = [fruit if fruit != 'banana' else 'orange' for fruit in fruits]\n",
        "print(fruits_subbed)"
      ],
      "metadata": {
        "colab": {
          "base_uri": "https://localhost:8080/"
        },
        "id": "3zBmaCnyJ0X7",
        "outputId": "86187b65-ff6e-4467-becf-132f590d57ba"
      },
      "execution_count": null,
      "outputs": [
        {
          "output_type": "stream",
          "name": "stdout",
          "text": [
            "['apple', 'cherry', 'grape', 'kiwi', 'mango', 'orange', 'peach']\n"
          ]
        }
      ]
    },
    {
      "cell_type": "code",
      "source": [
        "# sorting lists\n",
        "# list.sort() will sort case-sensitive alphabetically or numerically\n",
        "# can pass in a custom function with the key parameter\n",
        "fruits.sort(reverse=True)\n",
        "print(fruits)"
      ],
      "metadata": {
        "colab": {
          "base_uri": "https://localhost:8080/"
        },
        "id": "3jIOvw6BKVw7",
        "outputId": "becee2ec-66d1-4edd-c290-2d1edb490c5d"
      },
      "execution_count": null,
      "outputs": [
        {
          "output_type": "stream",
          "name": "stdout",
          "text": [
            "['peach', 'orange', 'mango', 'kiwi', 'grape', 'cherry', 'apple']\n",
            "None\n"
          ]
        }
      ]
    },
    {
      "cell_type": "code",
      "source": [
        "# Copying lists\n",
        "# Can't use list2 = list1 to copy a list\n",
        "# list2 will just reference list1\n",
        "\n",
        "fruits2 = fruits\n",
        "print(fruits2)\n",
        "fruits.append('pear')\n",
        "print(fruits2)"
      ],
      "metadata": {
        "colab": {
          "base_uri": "https://localhost:8080/"
        },
        "id": "WaBxo_7_KlSw",
        "outputId": "18277daa-c584-4018-c68e-55025abe9151"
      },
      "execution_count": null,
      "outputs": [
        {
          "output_type": "stream",
          "name": "stdout",
          "text": [
            "['peach', 'orange', 'mango', 'kiwi', 'grape', 'cherry', 'apple']\n",
            "['peach', 'orange', 'mango', 'kiwi', 'grape', 'cherry', 'apple', 'pear']\n"
          ]
        }
      ]
    },
    {
      "cell_type": "code",
      "source": [
        "# copy() method creates a true copy\n",
        "fruits2 = fruits.copy()\n",
        "print(fruits2)\n",
        "fruits.append('lemon')\n",
        "print(fruits2)"
      ],
      "metadata": {
        "colab": {
          "base_uri": "https://localhost:8080/"
        },
        "id": "N1mtiwzHLGzV",
        "outputId": "5b8cd45b-578c-469e-87f6-e46fada57115"
      },
      "execution_count": null,
      "outputs": [
        {
          "output_type": "stream",
          "name": "stdout",
          "text": [
            "['peach', 'orange', 'mango', 'kiwi', 'grape', 'cherry', 'apple', 'pear']\n",
            "['peach', 'orange', 'mango', 'kiwi', 'grape', 'cherry', 'apple', 'pear']\n"
          ]
        }
      ]
    },
    {
      "cell_type": "code",
      "source": [
        "# use the list() to create a copy\n",
        "fruits2 = list(fruits)"
      ],
      "metadata": {
        "id": "TOOi2LOQLQ8W"
      },
      "execution_count": null,
      "outputs": []
    },
    {
      "cell_type": "code",
      "source": [
        "fruits2 = fruits[:]\n",
        "fruits.append('lime')\n",
        "print(fruits2)"
      ],
      "metadata": {
        "colab": {
          "base_uri": "https://localhost:8080/"
        },
        "id": "O4900vQFLjmj",
        "outputId": "9538630c-1112-42e0-db1a-7ca6eba84589"
      },
      "execution_count": null,
      "outputs": [
        {
          "output_type": "stream",
          "name": "stdout",
          "text": [
            "['peach', 'orange', 'mango', 'kiwi', 'grape', 'cherry', 'apple', 'pear', 'lemon']\n"
          ]
        }
      ]
    },
    {
      "cell_type": "markdown",
      "source": [
        "#### File Operations"
      ],
      "metadata": {
        "id": "PU5i2rH3OlXi"
      }
    },
    {
      "cell_type": "markdown",
      "source": [
        "Python has basic file reading/writing capabilities.\n",
        "These can be useful for scripting or data exploration\n",
        "\n",
        "- the open() function has 4 modes\n",
        "- \"r\" - Read - Default value. Opens a file for reading, error if doesn't exist\n",
        "- \"a\" - Append - Opens a file for appending, creates the file if doesn't exist\n",
        "- \"w\" - Write - Opens a file for writing, creates the file if doesn't exist\n",
        "- \"x\" - Create - Creates the specified file, returns an error if the file exists\n",
        "\n",
        "We can also specify two ways to handle the file(s)\n",
        "- \"t\" - Text - Default value. text mode\n",
        "- \"b\" - Binary - Binary mode (e.g. images)\n",
        "\n",
        "If we don't pass any arguments, the default is 'rt'"
      ],
      "metadata": {
        "id": "Puh-LCrSOn_x"
      }
    },
    {
      "cell_type": "markdown",
      "source": [
        "Code below is not functional! Need to set up a file path and stuff."
      ],
      "metadata": {
        "id": "tLz_KUr7Rief"
      }
    },
    {
      "cell_type": "code",
      "source": [
        "file_path = '/file/file/file'\n",
        "\n",
        "# open the file and assign it to a variable\n",
        "# make sure to close the file once done\n",
        "\n",
        "f = open(file_path, 'rt')\n",
        "\n",
        "book = f.read()\n",
        "print(book[:50])"
      ],
      "metadata": {
        "id": "IXtVwLtGLl3J"
      },
      "execution_count": null,
      "outputs": []
    },
    {
      "cell_type": "code",
      "source": [
        "# since we already read the file, our current location is at the end of the file.\n",
        "# use f.seek(index) to move to a specific index\n",
        "f.seek(0)\n",
        "book = f.readlines()\n",
        "\n",
        "len(book)\n",
        "\n",
        "print(book[1])"
      ],
      "metadata": {
        "id": "T9_-H1TdQ-8S"
      },
      "execution_count": null,
      "outputs": []
    },
    {
      "cell_type": "code",
      "source": [
        "# close the file\n",
        "f. close()"
      ],
      "metadata": {
        "id": "o_slfVbTRdP0"
      },
      "execution_count": null,
      "outputs": []
    },
    {
      "cell_type": "code",
      "source": [
        "# Better alternative for opening files\n",
        "\n",
        "# with open(file_path) as f:\n",
        "#  lines = f.readlines()\n",
        "#print(lines[:4])\n",
        "\n",
        "\n",
        "# writing files\n",
        "# choose append 'a' or write 'w' mode\n",
        "# 'w' will overwrite any existing content"
      ],
      "metadata": {
        "id": "TL9qscq0SHNs"
      },
      "execution_count": null,
      "outputs": []
    },
    {
      "cell_type": "code",
      "source": [
        "out_file = '/content/drive/MyDrive/sample.txt'\n",
        "line1 = 'This is some file content!\\n'\n",
        "line2 = ['This is some more file content.\\n', 'And even more!\\n']\n",
        "line3 = 'This will be the only line in the file.'\n",
        "\n",
        "with open(out_file, 'w') as f:\n",
        "  f.write(line1)\n",
        "\n",
        "with open(out_file, 'a') as f:\n",
        "  f.writelines(line2)\n",
        "\n",
        "with open(out_file) as f:\n",
        "  print(f.read())\n",
        "\n"
      ],
      "metadata": {
        "colab": {
          "base_uri": "https://localhost:8080/",
          "height": 232
        },
        "id": "5f11l43qSTKi",
        "outputId": "a46068db-5fd1-4a4f-e5bf-8a547c5efc95"
      },
      "execution_count": null,
      "outputs": [
        {
          "output_type": "error",
          "ename": "FileNotFoundError",
          "evalue": "ignored",
          "traceback": [
            "\u001b[0;31m---------------------------------------------------------------------------\u001b[0m",
            "\u001b[0;31mFileNotFoundError\u001b[0m                         Traceback (most recent call last)",
            "\u001b[0;32m<ipython-input-94-f85b9b36d047>\u001b[0m in \u001b[0;36m<module>\u001b[0;34m\u001b[0m\n\u001b[1;32m      4\u001b[0m \u001b[0mline3\u001b[0m \u001b[0;34m=\u001b[0m \u001b[0;34m'This will be the only line in the file.'\u001b[0m\u001b[0;34m\u001b[0m\u001b[0;34m\u001b[0m\u001b[0m\n\u001b[1;32m      5\u001b[0m \u001b[0;34m\u001b[0m\u001b[0m\n\u001b[0;32m----> 6\u001b[0;31m \u001b[0;32mwith\u001b[0m \u001b[0mopen\u001b[0m\u001b[0;34m(\u001b[0m\u001b[0mout_file\u001b[0m\u001b[0;34m,\u001b[0m \u001b[0;34m'w'\u001b[0m\u001b[0;34m)\u001b[0m \u001b[0;32mas\u001b[0m \u001b[0mf\u001b[0m\u001b[0;34m:\u001b[0m\u001b[0;34m\u001b[0m\u001b[0;34m\u001b[0m\u001b[0m\n\u001b[0m\u001b[1;32m      7\u001b[0m   \u001b[0mf\u001b[0m\u001b[0;34m.\u001b[0m\u001b[0mwrite\u001b[0m\u001b[0;34m(\u001b[0m\u001b[0mline1\u001b[0m\u001b[0;34m)\u001b[0m\u001b[0;34m\u001b[0m\u001b[0;34m\u001b[0m\u001b[0m\n\u001b[1;32m      8\u001b[0m \u001b[0;34m\u001b[0m\u001b[0m\n",
            "\u001b[0;31mFileNotFoundError\u001b[0m: [Errno 2] No such file or directory: '/content/drive/MyDrive/sample.txt'"
          ]
        }
      ]
    },
    {
      "cell_type": "code",
      "source": [],
      "metadata": {
        "id": "bOoUOR1xUlss"
      },
      "execution_count": null,
      "outputs": []
    }
  ]
}
