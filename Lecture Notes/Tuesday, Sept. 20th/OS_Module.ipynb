{
  "nbformat": 4,
  "nbformat_minor": 0,
  "metadata": {
    "colab": {
      "provenance": [],
      "authorship_tag": "ABX9TyM0Sn59tdZSSdmYJ7i/EyRB",
      "include_colab_link": true
    },
    "kernelspec": {
      "name": "python3",
      "display_name": "Python 3"
    },
    "language_info": {
      "name": "python"
    }
  },
  "cells": [
    {
      "cell_type": "markdown",
      "metadata": {
        "id": "view-in-github",
        "colab_type": "text"
      },
      "source": [
        "<a href=\"https://colab.research.google.com/github/NSteckel/Data-in-Python/blob/main/OS_Module.ipynb\" target=\"_parent\"><img src=\"https://colab.research.google.com/assets/colab-badge.svg\" alt=\"Open In Colab\"/></a>"
      ]
    },
    {
      "cell_type": "markdown",
      "source": [
        "# Interacting with the Operating System"
      ],
      "metadata": {
        "id": "fkr9pZVpVR7u"
      }
    },
    {
      "cell_type": "markdown",
      "source": [
        "*!!! Use the below info to go back and fix the File Operations section of the previous colaboratory file !!!*"
      ],
      "metadata": {
        "id": "OjHGkjcgZ6lU"
      }
    },
    {
      "cell_type": "code",
      "execution_count": null,
      "metadata": {
        "colab": {
          "base_uri": "https://localhost:8080/"
        },
        "id": "N1RydQWXVNeD",
        "outputId": "8db35ca4-a3e9-4638-c39e-04de6f1622c0"
      },
      "outputs": [
        {
          "output_type": "stream",
          "name": "stdout",
          "text": [
            "The current directory is: /content\n"
          ]
        }
      ],
      "source": [
        "# Import OS Module\n",
        "# Module in the Python standard library for operating system functions\n",
        "\n",
        "import os\n",
        "\n",
        "cwd = os.getcwd()\n",
        "print(f\"The current directory is: {cwd}\")"
      ]
    },
    {
      "cell_type": "code",
      "source": [
        "from google.colab import drive \n",
        "drive.mount('/content/drive/')"
      ],
      "metadata": {
        "colab": {
          "base_uri": "https://localhost:8080/"
        },
        "id": "ri17ORKrVrdc",
        "outputId": "11082814-cc25-4c5c-f44f-a2f6832297d6"
      },
      "execution_count": null,
      "outputs": [
        {
          "output_type": "stream",
          "name": "stdout",
          "text": [
            "Mounted at /content/drive/\n"
          ]
        }
      ]
    },
    {
      "cell_type": "code",
      "source": [
        "# change directory\n",
        "os.chdir('/content/drive/My Drive')\n",
        "print(os.getcwd())"
      ],
      "metadata": {
        "colab": {
          "base_uri": "https://localhost:8080/"
        },
        "id": "8gqbOIEXVxSP",
        "outputId": "01d4d4d5-f094-49fc-fdd6-d3fe03197d72"
      },
      "execution_count": null,
      "outputs": [
        {
          "output_type": "stream",
          "name": "stdout",
          "text": [
            "/content/drive/My Drive\n"
          ]
        }
      ]
    },
    {
      "cell_type": "code",
      "source": [
        "# Make a new directory\n",
        "# When working with file systems - specify a base path for the environment\n",
        "\n",
        "base_path = '/content/drive/MyDrive'\n",
        "new_dir = '/example'\n",
        "\n",
        "os.mkdir(base_path + new_dir)"
      ],
      "metadata": {
        "id": "3cpPYm0_V7uK"
      },
      "execution_count": null,
      "outputs": []
    },
    {
      "cell_type": "code",
      "source": [
        "# Making nested directories\n",
        "# os.mkdir() wont work\n",
        "# use os.mkdirs()\n",
        "\n",
        "new_dirs = '/example/nested/dirs'\n",
        "example_dir = os.path.join(base_path, new_dirs)"
      ],
      "metadata": {
        "id": "nePJvug_W1H6"
      },
      "execution_count": null,
      "outputs": []
    },
    {
      "cell_type": "code",
      "source": [
        "os.makedirs(example_dir, exist_ok = True)"
      ],
      "metadata": {
        "id": "TMtkYQlZYESQ"
      },
      "execution_count": null,
      "outputs": []
    },
    {
      "cell_type": "code",
      "source": [
        "# we may need to list out the directories\n",
        "# this will print out the immediate child directories\n",
        "root='/'\n",
        "dirs = os.listdir(root)\n",
        "print(dirs)"
      ],
      "metadata": {
        "colab": {
          "base_uri": "https://localhost:8080/"
        },
        "id": "IVymzeG5YIwy",
        "outputId": "7a60f4d1-688e-4c57-e91a-4c301a3376e1"
      },
      "execution_count": null,
      "outputs": [
        {
          "output_type": "stream",
          "name": "stdout",
          "text": [
            "['dev', 'bin', 'tmp', 'usr', 'lib', 'home', 'run', 'opt', 'mnt', 'sbin', 'srv', 'boot', 'root', 'proc', 'var', 'media', 'lib64', 'sys', 'etc', 'content', 'example', '.dockerenv', 'datalab', 'tools', 'python-apt', 'lib32', 'NGC-DL-CONTAINER-LICENSE']\n"
          ]
        }
      ]
    },
    {
      "cell_type": "code",
      "source": [],
      "metadata": {
        "id": "z_4k9yYXYWom"
      },
      "execution_count": null,
      "outputs": []
    }
  ]
}
