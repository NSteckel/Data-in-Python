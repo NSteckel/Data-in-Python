{
  "nbformat": 4,
  "nbformat_minor": 0,
  "metadata": {
    "colab": {
      "provenance": [],
      "authorship_tag": "ABX9TyPnrZOe1NnTy601Gd7HMVuz",
      "include_colab_link": true
    },
    "kernelspec": {
      "name": "python3",
      "display_name": "Python 3"
    },
    "language_info": {
      "name": "python"
    }
  },
  "cells": [
    {
      "cell_type": "markdown",
      "metadata": {
        "id": "view-in-github",
        "colab_type": "text"
      },
      "source": [
        "<a href=\"https://colab.research.google.com/github/NSteckel/Data-in-Python/blob/main/Python_Data_Types.ipynb\" target=\"_parent\"><img src=\"https://colab.research.google.com/assets/colab-badge.svg\" alt=\"Open In Colab\"/></a>"
      ]
    },
    {
      "cell_type": "markdown",
      "source": [
        "## Intro To Python Data Types"
      ],
      "metadata": {
        "id": "m9C7qN19O-E1"
      }
    },
    {
      "cell_type": "code",
      "execution_count": null,
      "metadata": {
        "id": "rIvwuAdfIAkH"
      },
      "outputs": [],
      "source": [
        "# Intro to Python\n",
        "# writing 'help(whatever you need info about)' gives info on what's in parentheses"
      ]
    },
    {
      "cell_type": "code",
      "source": [
        "# double underscore = private method \n",
        "# single underscore = protected method \n",
        "# EX:\n",
        "help(str.lstrip)\n",
        "\n"
      ],
      "metadata": {
        "id": "pAiMlzAeI5Ko"
      },
      "execution_count": null,
      "outputs": []
    },
    {
      "cell_type": "code",
      "source": [
        "my_string = \"    apple\"\n",
        "my_string.lstrip()"
      ],
      "metadata": {
        "id": "7vM64UeAJoJJ"
      },
      "execution_count": null,
      "outputs": []
    },
    {
      "cell_type": "code",
      "source": [
        "i = 0 \n",
        "help(i)"
      ],
      "metadata": {
        "id": "yqxbn9ZZJwko"
      },
      "execution_count": null,
      "outputs": []
    },
    {
      "cell_type": "code",
      "source": [
        "# Importing modules\n",
        "import datetime\n",
        "\n",
        "from os import listdir\n",
        "help(listdir)"
      ],
      "metadata": {
        "id": "KMHu0rqEJ-6J"
      },
      "execution_count": null,
      "outputs": []
    },
    {
      "cell_type": "code",
      "source": [
        "datetime.date.today()"
      ],
      "metadata": {
        "id": "pmSDkRtyKIPG"
      },
      "execution_count": null,
      "outputs": []
    },
    {
      "cell_type": "code",
      "source": [
        "# import pandas as pd # import as alias\n",
        "# pd.DataFrame() # = pandas.DataFrame() \n",
        "\n",
        "# !pip install pandas # <-- requires restart runtime\n",
        "!pip install pandas"
      ],
      "metadata": {
        "colab": {
          "base_uri": "https://localhost:8080/"
        },
        "id": "zd4y8KY1KVSz",
        "outputId": "b9984015-3ab9-4cd8-86fa-c52204ff2d87"
      },
      "execution_count": null,
      "outputs": [
        {
          "output_type": "stream",
          "name": "stdout",
          "text": [
            "Looking in indexes: https://pypi.org/simple, https://us-python.pkg.dev/colab-wheels/public/simple/\n",
            "Requirement already satisfied: pandas in /usr/local/lib/python3.7/dist-packages (1.3.5)\n",
            "Requirement already satisfied: numpy>=1.17.3 in /usr/local/lib/python3.7/dist-packages (from pandas) (1.21.6)\n",
            "Requirement already satisfied: pytz>=2017.3 in /usr/local/lib/python3.7/dist-packages (from pandas) (2022.2.1)\n",
            "Requirement already satisfied: python-dateutil>=2.7.3 in /usr/local/lib/python3.7/dist-packages (from pandas) (2.8.2)\n",
            "Requirement already satisfied: six>=1.5 in /usr/local/lib/python3.7/dist-packages (from python-dateutil>=2.7.3->pandas) (1.15.0)\n"
          ]
        }
      ]
    },
    {
      "cell_type": "markdown",
      "source": [
        "## Data Types in Python"
      ],
      "metadata": {
        "id": "FIFfGXzzLeMZ"
      }
    },
    {
      "cell_type": "markdown",
      "source": [
        "#### Strings & Numbers"
      ],
      "metadata": {
        "id": "VSwdwgEMTWde"
      }
    },
    {
      "cell_type": "code",
      "source": [
        "# Strings\n",
        "sq = 'hello'\n",
        "sqtwo = \"hello\"\n",
        "sqthree = '''This is...\n",
        "bonkers!'''\n",
        "\n",
        "sentence = \"I'm going to make some tea.\"\n",
        "\n",
        "print(sentence)\n",
        "print(sqthree)"
      ],
      "metadata": {
        "id": "ZaJcdFEKLgXV"
      },
      "execution_count": null,
      "outputs": []
    },
    {
      "cell_type": "code",
      "source": [
        "# Numbers\n",
        "\n",
        "# Int\n",
        "my_int = 5\n",
        "\n",
        "# Float\n",
        "my_fl = 3.14\n",
        "\n",
        "unknown = 5.0\n",
        "print(type(unknown)) # Prints ' <class 'float'> '\n",
        "\n",
        "print(type(my_int + my_fl)) # Combines into one single type, in this case 'float'"
      ],
      "metadata": {
        "id": "KG2sTadZML63"
      },
      "execution_count": null,
      "outputs": []
    },
    {
      "cell_type": "markdown",
      "source": [
        "#### Collections & Tuples"
      ],
      "metadata": {
        "id": "_sqWSNNBTvuQ"
      }
    },
    {
      "cell_type": "code",
      "source": [
        "# Collections\n",
        "# (Multiple objects in python)\n",
        "\n",
        "# List - Dynamic Array (ArrayList)\n",
        "# There is no static array in Python's native library\n",
        "# For static array, use Numpy's module for numberical operations. (NOTE HERE!! (Numpy.array)(?))\n",
        "\n",
        "drinks = ['Water', 'Sprite', 'Apple Juice', 'Milk']"
      ],
      "metadata": {
        "id": "UOInoTcsMtl0"
      },
      "execution_count": null,
      "outputs": []
    },
    {
      "cell_type": "code",
      "source": [
        "# Tuple\n",
        "## Maintains insertion order with an index\n",
        "## Allows for duplicates\n",
        "## Immutable, but can be reassigned # (NOTE HERE!!)\n",
        "\n",
        "drinks = ('Water', 'Sprite', 'Apple Juice', 'Milk')\n",
        "print(\"New Drinks:\", drinks)\n",
        "\n",
        "# Modify drinks\n",
        "\n",
        "drinks = ('Water', 'Sprite', 'Apple Juice')\n",
        "print(\"Old Drinks:\", drinks)\n",
        "\n",
        "# Can not do ' drinks[0] = 'ice'\n",
        "# Can not add to a tuple"
      ],
      "metadata": {
        "id": "yGv1Lwm5Nul7"
      },
      "execution_count": null,
      "outputs": []
    },
    {
      "cell_type": "markdown",
      "source": [
        "#### Ranges, Lists & Sets"
      ],
      "metadata": {
        "id": "XyClGkYhT2Tn"
      }
    },
    {
      "cell_type": "code",
      "source": [
        "# Ranges\n",
        "# Creates a sequence of numbers\n",
        "# range(start, stop, step)\n",
        "\n",
        "my_list = []\n",
        "\n",
        "# python for loop does not need '(i=0;i<=10;i++)'\n",
        "for i in range(10): \n",
        "  my_list.append(i)\n",
        "print(my_list) \n",
        "\n",
        "# Indentation on this = important!! No tab only prints once, with tab prints it 10 times, adding one new number every time"
      ],
      "metadata": {
        "id": "vb5gs4G8OGxe"
      },
      "execution_count": null,
      "outputs": []
    },
    {
      "cell_type": "code",
      "source": [
        "# List Comprehensions\n",
        "\n",
        "# Construct a list from 0.0 -> 0.9\n",
        "\n",
        "my_list = [i/10 for i in range(10)]\n",
        "print(my_list)\n",
        "\n",
        "fruits = ['apple', 'banana', 'kiwi', 'orange']\n",
        "print('OG Fruits:', fruits)\n",
        "\n",
        "capital_fruits = [food.title() for food in fruits] \n",
        "# Here 'food' is a variable name, can be whatever as long as it is consistent\n",
        "print('Capital Fruits:', capital_fruits)\n",
        "\n",
        "super_fruits = [food.upper() for food in fruits] \n",
        "print('Super Fruits:', super_fruits)"
      ],
      "metadata": {
        "id": "Bn5Y06ecPenq"
      },
      "execution_count": null,
      "outputs": []
    },
    {
      "cell_type": "code",
      "source": [
        "# Sets \n",
        "# Unique lists: Unordered, unchangeable, unique\n",
        "\n",
        "my_list = ['apple', 'banana', 'kiwi', 'orange', 'kiwi']\n",
        "print('Fruit List:', my_list)\n",
        "\n",
        "fruit_set = set(my_list)\n",
        "print('Fruit Set:', fruit_set)\n",
        "\n",
        "len(my_list) # 'len(___)' can be used to get the length of ANY iterable\n",
        "\n",
        "# Sets can also have mixed data types\n",
        "mixed_set = {'apple', 3, True} \n",
        "# sets will be printed in different order(s) --(based on size of data set/type?)\n",
        "for item in mixed_set:\n",
        "  print(item)\n",
        "\n",
        "# Set should be used over let list for if you want just unique elements"
      ],
      "metadata": {
        "id": "3RUq3cjPQTvJ"
      },
      "execution_count": null,
      "outputs": []
    },
    {
      "cell_type": "markdown",
      "source": [
        "- Sets themselves are mutable but the elements inside the set are not mutable\n",
        "- You can not say my_set[0] = 'banana'\n",
        "- Specific items CAN NOT be referenced\n",
        "- Pop can be used to remove by element\n",
        "- The only thing fully immutable are tuples\n",
        "\n",
        "!! Only thing to use set for is to check for unique values !!"
      ],
      "metadata": {
        "id": "cfOlO4Myms8C"
      }
    },
    {
      "cell_type": "markdown",
      "source": [
        "#### Dictionaries"
      ],
      "metadata": {
        "id": "Qsk9pEslUeuH"
      }
    },
    {
      "cell_type": "code",
      "source": [
        "# Dictionaries\n",
        "# Aka Hash Maps\n",
        "# Stores labeled data of key-value pairs\n",
        "# Dictionaries after Python 3.7 are ordered\n",
        "# Items are mutable but do not allow duplicate keys\n",
        "\n",
        "employee = {\n",
        "    'name': 'Matt Glair',\n",
        "    'position': 'Web Developer',\n",
        "    'start_date': '10-17-2020'\n",
        "    }\n",
        "\n",
        "# Index into a dictionary using a key\n",
        "name = employee['name']\n",
        "print(name)\n",
        "position = employee.get('position')\n",
        "print(position)\n",
        "\n",
        "# QUESTION: Could a dictionary ever be used to represent multiple employees, or is it only used for singular objects?"
      ],
      "metadata": {
        "id": "j1HJ2KOHRyZ1"
      },
      "execution_count": null,
      "outputs": []
    },
    {
      "cell_type": "code",
      "source": [
        "# Dictionary Comprehension\n",
        "\n",
        "fields = ['name', 'position', 'start_date']\n",
        "values = ['Matt Glair', 'Web Developer', '10-17-2020']\n",
        "\n",
        "matt = {k: v for k, v in zip(fields, values)}\n",
        "\n",
        "# zip makes tuple out of fields & values\n",
        "print(matt)\n",
        "\n",
        "print() # Note differences above and below line space here\n",
        "\n",
        "for item in zip(fields, values):\n",
        "  print(item)\n",
        "\n",
        "print()\n",
        "\n",
        "\n"
      ],
      "metadata": {
        "id": "5kNcVvqbT-Sb"
      },
      "execution_count": null,
      "outputs": []
    },
    {
      "cell_type": "code",
      "source": [
        "print('Keys:', employee.keys()) # get list of keys\n",
        "\n",
        "print('Values:', employee.values()) # get list of values\n",
        "\n",
        "print('Employee:', employee.items()) # get list of keys and values (tuples)\n",
        "\n",
        "print()\n",
        "\n",
        "# NOTE HERE!! (F Strings(?))\n",
        "for k, v in employee.items():\n",
        "  print(f\"{k}: {v}\")\n"
      ],
      "metadata": {
        "id": "5kGzQnjfVYUn"
      },
      "execution_count": null,
      "outputs": []
    },
    {
      "cell_type": "code",
      "source": [
        "# Check if a key exists\n",
        "if 'salary' in employee:\n",
        "  print(employee['name'])"
      ],
      "metadata": {
        "id": "4w8Oi7FlWC-9"
      },
      "execution_count": null,
      "outputs": []
    },
    {
      "cell_type": "code",
      "source": [
        "# Update a value in a dictionary\n",
        "employee['position'] = 'Backend Developer'\n",
        "print(employee)\n",
        "\n",
        "# Update with the update() method\n",
        "employee.update({'name': 'Matt F. Glair'})\n",
        "print(employee)\n",
        "\n",
        "# clear a dictionary with ' clear() ' EX: ' employee.clear() '\n",
        "# delete a dictionary with ' del ' EX: ' del employee '"
      ],
      "metadata": {
        "id": "5KuBgRdBXEir"
      },
      "execution_count": null,
      "outputs": []
    },
    {
      "cell_type": "code",
      "source": [
        "# dictionaries can also be nested\n",
        "# this matches the structure of JSON datad\n",
        "\n",
        "mykids = {\n",
        "    \"child1\" : {\n",
        "        \"name\" : \"Alice\",\n",
        "        \"year\" : 1989\n",
        "    },\n",
        "    \"child2\" : {\n",
        "        \"name\" : \"Jophie\",\n",
        "        \"year\" : 1992\n",
        "    },\n",
        "    \"child3\" : {\n",
        "        \"name\" : \"Zoe\",\n",
        "        \"year\" : 1996\n",
        "    }\n",
        "}"
      ],
      "metadata": {
        "id": "aazCzkkoXUXk"
      },
      "execution_count": null,
      "outputs": []
    },
    {
      "cell_type": "markdown",
      "source": [
        "#### Booleans"
      ],
      "metadata": {
        "id": "wVrTc12fZXC5"
      }
    },
    {
      "cell_type": "code",
      "source": [
        "# Boolean\n",
        "# True of False, typically used for the result(s) of a comparison\n",
        "\n",
        "print(9 > 4)\n",
        "print(11 == 11)\n",
        "print(8 <= 4)"
      ],
      "metadata": {
        "id": "qWfJEXGmZHk6"
      },
      "execution_count": null,
      "outputs": []
    },
    {
      "cell_type": "markdown",
      "source": [
        "- The bool() function can perform a null check\n",
        "- Python's default null type is NoneType\n",
        "- None keyword initializes an object of NoneType\n",
        "- It is not the same as 0 of an empty string\n",
        "- Other libraries in Python will implement their own null type\n",
        "- np.Nan (not a number)\n"
      ],
      "metadata": {
        "id": "L9o1C2wVZkPo"
      }
    },
    {
      "cell_type": "code",
      "source": [
        "bool(None)\n",
        "\n",
        "condition = (5 > 4)\n",
        "if condition == True:\n",
        "  print(\"It's true.\")\n",
        "\n",
        "# Better Python \n",
        "if condition:\n",
        "  print(\"It's true.\")\n",
        "\n",
        "print(None == None)\n",
        "print(bool(''))"
      ],
      "metadata": {
        "colab": {
          "base_uri": "https://localhost:8080/"
        },
        "id": "e2mYH5qMZVr4",
        "outputId": "8c283451-e301-4b3d-a2e7-73b2df905350"
      },
      "execution_count": null,
      "outputs": [
        {
          "output_type": "stream",
          "name": "stdout",
          "text": [
            "It's true.\n",
            "It's true.\n",
            "True\n",
            "False\n"
          ]
        }
      ]
    },
    {
      "cell_type": "markdown",
      "source": [
        "#### Casting Data Types"
      ],
      "metadata": {
        "id": "ONCje-m8bD-L"
      }
    },
    {
      "cell_type": "code",
      "source": [
        "# Call the data type method like int() of float()\n",
        "# int() creates an int from a float (by truncating) or from a string\n",
        "\n",
        "# Truncating def: NOTE HERE!!\n",
        "\n",
        "x = int(1)\n",
        "y = int(2.8)\n",
        "z = int('3')\n",
        "\n"
      ],
      "metadata": {
        "id": "2rtO1CgmaWCo"
      },
      "execution_count": null,
      "outputs": []
    },
    {
      "cell_type": "markdown",
      "source": [
        "Truncated/Truncation def: Come back here later"
      ],
      "metadata": {
        "id": "xbN-7kezcGG3"
      }
    },
    {
      "cell_type": "code",
      "source": [
        "rounded = round(2.8115, 3) # Here, 3 is how many decimal places you want to round to\n",
        "\n",
        "print(rounded)\n",
        "\n",
        "# float() to construct a float\n",
        "x = float(1)\n",
        "y = float('3.1')\n",
        "print(x)\n",
        "print(y)\n",
        "\n",
        "# str()\n",
        "y = str(2)\n",
        "print(y)\n",
        "z = str(3.0)\n",
        "print(type(z))"
      ],
      "metadata": {
        "id": "VZ9Emhsibm_p"
      },
      "execution_count": null,
      "outputs": []
    },
    {
      "cell_type": "code",
      "source": [
        "# Cast to list\n",
        "nums = ['3', '5', '2', '1', '4']\n",
        "nums = [int(something) for something in nums]\n",
        "print(nums)\n",
        "\n",
        "# Can also use map\n",
        "# map(float, nums)"
      ],
      "metadata": {
        "colab": {
          "base_uri": "https://localhost:8080/"
        },
        "id": "loo8vC-KcFA2",
        "outputId": "56a25702-dd5e-4c09-bed1-09a9a232934d"
      },
      "execution_count": null,
      "outputs": [
        {
          "output_type": "stream",
          "name": "stdout",
          "text": [
            "[3, 5, 2, 1, 4]\n"
          ]
        }
      ]
    },
    {
      "cell_type": "code",
      "source": [],
      "metadata": {
        "id": "ItnqfBMMcifv"
      },
      "execution_count": null,
      "outputs": []
    }
  ]
}
