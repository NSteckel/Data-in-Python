{
  "nbformat": 4,
  "nbformat_minor": 0,
  "metadata": {
    "colab": {
      "provenance": [],
      "authorship_tag": "ABX9TyNxKZHuyqbF+rUcsE6TplOg",
      "include_colab_link": true
    },
    "kernelspec": {
      "name": "python3",
      "display_name": "Python 3"
    },
    "language_info": {
      "name": "python"
    }
  },
  "cells": [
    {
      "cell_type": "markdown",
      "metadata": {
        "id": "view-in-github",
        "colab_type": "text"
      },
      "source": [
        "<a href=\"https://colab.research.google.com/github/NSteckel/Data-in-Python/blob/main/Data_Serialization.ipynb\" target=\"_parent\"><img src=\"https://colab.research.google.com/assets/colab-badge.svg\" alt=\"Open In Colab\"/></a>"
      ]
    },
    {
      "cell_type": "markdown",
      "source": [
        "# Data Serialization"
      ],
      "metadata": {
        "id": "VsXfV0rPhDNz"
      }
    },
    {
      "cell_type": "markdown",
      "source": [
        "- Just the process of formatting data when it is written to disk\n",
        "- Should be readable and useable\n",
        "- Process of converting an object into a series of bytes\n",
        "\n",
        "- Structure\n",
        "\n",
        "- Portability\n",
        "  - CSV = very common file format, can be used by almost anyone\n",
        "  - Different file types, different advantages\n",
        "  - Compression: Can reduce size of differently formatted files\n",
        "\n",
        "- Versioning\n",
        "  - If data set is updated, create versions of data.\n",
        "  - Need a serialization format that supports versioning\n",
        "\n",
        "- Schema\n",
        "  - Static vs Evolving\n",
        "  - More modern formats will allow for adding columns and will keep track of when said schema evolved\n",
        "\n",
        "- Format\n",
        "  - String vs Binary\n",
        "  - Is the text/info/whatever human readable?\n",
        "\n",
        "Possible Formats:\n",
        "- XML, CSV, YAML, JSON, Parquet, Avro, ORC, Protobuf, Language Specific\n",
        "- Parquet & ORC = Column based\n",
        "- Avro = Row Based\n",
        "- Protobuf used to exchange data between computers\n",
        "- We will largely use CSV, JSON, Parquet\n",
        "\n",
        "*XML* \n",
        "- Extensible Markup Language\n",
        "- Nested text format\n",
        "- Schema-based validation\n",
        "\n",
        "*CSV*\n",
        "- Table structure w delimiter (does NOT have to be a comma)\n",
        "- Human Readable\n",
        "- Pipe Character '|' is often used as delimiter (rarely appears in data, unlike commas)\n",
        "\n",
        "*YAML* -Maybe Use?\n",
        "- Yet Another Markup Language\n",
        "- Used for configuration files\n",
        "- Superset of JSON\n",
        "- Similar format (nested key-value pairs)\n",
        "\n",
        "*Protobuf*\n",
        "- Google's Product\n",
        "- Simplified XML\n",
        "- Diverse language support\n",
        "- Used in messaging\n",
        "\n",
        "*Parquet* - !! This will be a big one !!\n",
        "- Free, open source\n",
        "- Columnar storage format\n",
        "- Primary format of Spark\n",
        "- Efficient data compression and encoding schemas\n",
        "\n",
        "Note: Normal database stores in rows (colums = name, age, job, etc.) With column storage, columns are stored together\n",
        "\n",
        "*Avro* \n",
        "- Row oriented framework (like a csv, read one row at a time)\n",
        "  - Data Serialization\n",
        "  - Remote Procedure Call(RPC)\n",
        "- Used by Hadoop\n",
        "- Compact binary serialization <-- ??\n",
        "- Uses JSON-ish structure to define data types and protocols\n",
        "\n",
        "*ORC* \n",
        "- Optimized Row Columnar\n",
        "- Used to store Hive data\n",
        "  - Single file output for each task\n",
        "- Light-weight indexing\n",
        "- Metadata stored with Protobuf\n",
        "- Column Oriented\n",
        "\n",
        "*Language Specific*\n",
        "- Java\n",
        "  - Java *Serializable*\n",
        "\n",
        "- Python\n",
        "  - Pickle\n",
        "\n",
        "\n",
        "\n"
      ],
      "metadata": {
        "id": "o_Q72lBzhS8C"
      }
    },
    {
      "cell_type": "markdown",
      "source": [
        "# JSON"
      ],
      "metadata": {
        "id": "qhiAMZVil24g"
      }
    },
    {
      "cell_type": "markdown",
      "source": [
        "JSON\n",
        "- Language Independent\n",
        "- Two Structures\n",
        "  - Object\n",
        "  - Array\n",
        "- Strings\n",
        "  - Double quotes with escape characters\n",
        "- Numbers\n",
        "- True, false and null\n",
        "\n",
        "---\n",
        "\n",
        "- JSON Object\n",
        "  - Key-Value Pairs\n",
        "  - Wrapped by {}\n"
      ],
      "metadata": {
        "id": "4P-Toi38mFMk"
      }
    },
    {
      "cell_type": "code",
      "source": [],
      "metadata": {
        "id": "TRoUYNiQoONQ"
      },
      "execution_count": null,
      "outputs": []
    }
  ]
}
