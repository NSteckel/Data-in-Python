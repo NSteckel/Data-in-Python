{
  "nbformat": 4,
  "nbformat_minor": 0,
  "metadata": {
    "colab": {
      "provenance": [],
      "authorship_tag": "ABX9TyNsy6tut/Gc43cCK5D7YBQ5",
      "include_colab_link": true
    },
    "kernelspec": {
      "name": "python3",
      "display_name": "Python 3"
    },
    "language_info": {
      "name": "python"
    }
  },
  "cells": [
    {
      "cell_type": "markdown",
      "metadata": {
        "id": "view-in-github",
        "colab_type": "text"
      },
      "source": [
        "<a href=\"https://colab.research.google.com/github/NSteckel/Data-in-Python/blob/main/Numpy.ipynb\" target=\"_parent\"><img src=\"https://colab.research.google.com/assets/colab-badge.svg\" alt=\"Open In Colab\"/></a>"
      ]
    },
    {
      "cell_type": "markdown",
      "source": [
        "# Numpy"
      ],
      "metadata": {
        "id": "BfSfWhWTskzs"
      }
    },
    {
      "cell_type": "markdown",
      "source": [
        "#### Intro to Numpy"
      ],
      "metadata": {
        "id": "fRzKwIlGtXqL"
      }
    },
    {
      "cell_type": "markdown",
      "source": [
        "- Numpy = Standard library for python- much slower than lower level languages like C/C++\n",
        "- Specialized library for numberical computations\n",
        "- Linear Algebra or mathematics\n",
        "- Array, matrix and mathematical transformations\n",
        "\n",
        "- ndarray = ~50x faster than lists in Python\n",
        "- Contiguious in memory\n",
        "- fixed size\n",
        "- Written in the C implementation of Pyhton\n",
        "- Must contain a single data type"
      ],
      "metadata": {
        "id": "4Zfzqfddso8s"
      }
    },
    {
      "cell_type": "code",
      "execution_count": null,
      "metadata": {
        "colab": {
          "base_uri": "https://localhost:8080/"
        },
        "id": "sNesYIXHsgj4",
        "outputId": "6ced0697-123b-4fcc-b3a8-50b55a4216a8"
      },
      "outputs": [
        {
          "output_type": "stream",
          "name": "stdout",
          "text": [
            "1.21.6\n"
          ]
        }
      ],
      "source": [
        "import numpy as np\n",
        "\n",
        "print(np.__version__)"
      ]
    },
    {
      "cell_type": "code",
      "source": [
        "arr = np.array([1, 2, 3, 4, 5])\n",
        "\n",
        "# Pass any container in Python - list, tuple, set, iterable\n",
        "# Auto-convert when you pass that argument\n",
        "\n",
        "# 0D array is a scalar\n",
        "scalar = np.array(42)\n",
        "\n",
        "# 1D array is a array\n",
        "arr = np.array([1, 2, 3])\n",
        "\n",
        "# 2D array is a matrix/matrices\n",
        "matrix = np.array([[1, 2, 3], [2, 4, 6]])\n",
        "\n",
        "# 3d array is a Tensor (like tensorflow)\n",
        "tensor = np.array([[[1, 2, 3], [4, 5, 6]], [[1, 2, 3], [4, 5, 6]]])"
      ],
      "metadata": {
        "id": "v2RFkanXtLIi"
      },
      "execution_count": null,
      "outputs": []
    },
    {
      "cell_type": "code",
      "source": [
        "print(scalar.ndim, arr.ndim, matrix.ndim, tensor.ndim)"
      ],
      "metadata": {
        "colab": {
          "base_uri": "https://localhost:8080/"
        },
        "id": "M92La-iLvM4m",
        "outputId": "03082e91-a8b7-4981-857b-c62e8fcc997e"
      },
      "execution_count": null,
      "outputs": [
        {
          "output_type": "stream",
          "name": "stdout",
          "text": [
            "0 1 2 3\n"
          ]
        }
      ]
    },
    {
      "cell_type": "code",
      "source": [
        "# Indexing into ndarrays\n",
        "# The only difference between single and multi-dimensional arrays in Numpy is that we can pass the indexes in a list\n",
        "\n",
        "py_arr = [[1,2], [3,4], [5,6]]\n",
        "print(py_arr[2][0])"
      ],
      "metadata": {
        "colab": {
          "base_uri": "https://localhost:8080/"
        },
        "id": "dyiZFRRFvTQl",
        "outputId": "cc7160a5-920a-48a1-9111-ba907352b950"
      },
      "execution_count": null,
      "outputs": [
        {
          "output_type": "stream",
          "name": "stdout",
          "text": [
            "5\n"
          ]
        }
      ]
    },
    {
      "cell_type": "markdown",
      "source": [
        "#### Numpy Data Types"
      ],
      "metadata": {
        "id": "QY8b10L0wSDe"
      }
    },
    {
      "cell_type": "markdown",
      "source": [
        "- In Numpy, we can use python's base data types\n",
        "- Numpy actually provides additional types for increased control/speed\n",
        "- (integer, boolean, integer, float, datetime/timedelta, object, string, etc.)\n",
        "- "
      ],
      "metadata": {
        "id": "mygSeS9hwV9L"
      }
    },
    {
      "cell_type": "code",
      "source": [
        "# Array Shapes\n",
        "matrix = np.array([[1, 2, 3], [4, 5, 6]])\n",
        "print(matrix.shape)"
      ],
      "metadata": {
        "colab": {
          "base_uri": "https://localhost:8080/"
        },
        "id": "Q-K_cbwW0q5E",
        "outputId": "8630c96d-a3f7-4cfd-b9d0-39b5d7b1e6b5"
      },
      "execution_count": null,
      "outputs": [
        {
          "output_type": "stream",
          "name": "stdout",
          "text": [
            "(2, 3)\n"
          ]
        }
      ]
    },
    {
      "cell_type": "code",
      "source": [
        "# Reshaping Arrays\n",
        "# We often read arrays in a flat fromat and have to reshape them\n",
        "\n",
        "array = np.array([1, 2, 3, 4, 5, 6, 7, 8, 9, 10, 11, 12])\n",
        "matrix = array.reshape(4,3)\n",
        "print(matrix)\n",
        "print(matrix.shape)"
      ],
      "metadata": {
        "colab": {
          "base_uri": "https://localhost:8080/"
        },
        "id": "KCLJKw1hv7r5",
        "outputId": "b5efd8f5-9ff4-497c-a382-6b44141412bf"
      },
      "execution_count": null,
      "outputs": [
        {
          "output_type": "stream",
          "name": "stdout",
          "text": [
            "[[ 1  2  3]\n",
            " [ 4  5  6]\n",
            " [ 7  8  9]\n",
            " [10 11 12]]\n",
            "(4, 3)\n"
          ]
        }
      ]
    },
    {
      "cell_type": "code",
      "source": [
        "flat_arr = matrix.resh # Figure out flatten / unshape"
      ],
      "metadata": {
        "id": "hctWKxKM1IBv"
      },
      "execution_count": null,
      "outputs": []
    },
    {
      "cell_type": "code",
      "source": [
        "print(tensor)\n",
        "for x in np.nditer(tensor):\n",
        "  print(x)"
      ],
      "metadata": {
        "colab": {
          "base_uri": "https://localhost:8080/"
        },
        "id": "X2TaeMzD3mN3",
        "outputId": "fd0ef31a-e006-4071-9ff3-a40df6e1c508"
      },
      "execution_count": null,
      "outputs": [
        {
          "output_type": "stream",
          "name": "stdout",
          "text": [
            "[[[1 2 3]\n",
            "  [4 5 6]]\n",
            "\n",
            " [[1 2 3]\n",
            "  [4 5 6]]]\n",
            "1\n",
            "2\n",
            "3\n",
            "4\n",
            "5\n",
            "6\n",
            "1\n",
            "2\n",
            "3\n",
            "4\n",
            "5\n",
            "6\n"
          ]
        }
      ]
    },
    {
      "cell_type": "code",
      "source": [
        "# joining arrays\n",
        "# join by axis (in python axis 0 is row, axis 1 is column)\n",
        "\n",
        "arr1 = np.array([[1,2],[3,4]])\n",
        "arr2 = np.array([[5,6],[7,8]])\n",
        "\n",
        "arr = np.concatenate((arr1, arr2), axis=1)\n",
        "print(arr)"
      ],
      "metadata": {
        "colab": {
          "base_uri": "https://localhost:8080/"
        },
        "id": "6UgQecsZ3udN",
        "outputId": "640c6221-a8c5-4461-81f2-46a6264610fb"
      },
      "execution_count": null,
      "outputs": [
        {
          "output_type": "stream",
          "name": "stdout",
          "text": [
            "[[1 2 5 6]\n",
            " [3 4 7 8]]\n"
          ]
        }
      ]
    },
    {
      "cell_type": "code",
      "source": [
        "# Look into H, V and D stacks \n",
        "# https://www.geeksforgeeks.org/numpy-vstack-in-python/?ref=lbp\n",
        "# https://pythonguides.com/python-numpy-stack/"
      ],
      "metadata": {
        "id": "vP5dzFI14dDU"
      },
      "execution_count": null,
      "outputs": []
    },
    {
      "cell_type": "code",
      "source": [
        "arr = np.array([1,2,3,4,6,5,4])\n",
        "x = "
      ],
      "metadata": {
        "id": "cE9Dp6bi5E2D"
      },
      "execution_count": null,
      "outputs": []
    }
  ]
}
