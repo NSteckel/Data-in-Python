{
  "nbformat": 4,
  "nbformat_minor": 0,
  "metadata": {
    "colab": {
      "provenance": [],
      "authorship_tag": "ABX9TyMkd5Klck52MZOIjqpnj99Y",
      "include_colab_link": true
    },
    "kernelspec": {
      "name": "python3",
      "display_name": "Python 3"
    },
    "language_info": {
      "name": "python"
    }
  },
  "cells": [
    {
      "cell_type": "markdown",
      "metadata": {
        "id": "view-in-github",
        "colab_type": "text"
      },
      "source": [
        "<a href=\"https://colab.research.google.com/github/NSteckel/Data-in-Python/blob/main/Functions.ipynb\" target=\"_parent\"><img src=\"https://colab.research.google.com/assets/colab-badge.svg\" alt=\"Open In Colab\"/></a>"
      ]
    },
    {
      "cell_type": "markdown",
      "source": [
        "# Functions"
      ],
      "metadata": {
        "id": "Jzh2JXxEmdp3"
      }
    },
    {
      "cell_type": "markdown",
      "source": [
        "- Custom blocks of code you call by name\n",
        "- You can define inputs with parameters\n",
        "- the actual data passed as parameters are the arguments used\n",
        "- a return statment is the data returned by the function"
      ],
      "metadata": {
        "id": "G13hWwTrmQ2t"
      }
    },
    {
      "cell_type": "code",
      "execution_count": null,
      "metadata": {
        "colab": {
          "base_uri": "https://localhost:8080/"
        },
        "id": "LUbLxPF6mQIU",
        "outputId": "554e2081-4222-48a8-f726-18610163697c"
      },
      "outputs": [
        {
          "output_type": "stream",
          "name": "stdout",
          "text": [
            "(40, 8, 5)\n"
          ]
        }
      ],
      "source": [
        "def calculate_area(width, length):\n",
        "  area = width * length\n",
        "  return area, length, width\n",
        "\n",
        "length = 5\n",
        "width = 8\n",
        "# variables can shadow names from outer and inner scopes\n",
        "# typically avoid this in production\n",
        "\n",
        "area = calculate_area(length, width)\n",
        "print(area)"
      ]
    },
    {
      "cell_type": "code",
      "source": [
        "# passing in arguments\n",
        "# arguments must either be in order or use the keyword syntax\n",
        "\n",
        "print(calculate_area(width=15, length=3))\n",
        "print(calculate_area(length=10, width=5))"
      ],
      "metadata": {
        "colab": {
          "base_uri": "https://localhost:8080/"
        },
        "id": "uCca6EnTm0QV",
        "outputId": "86e484d5-ccac-4e15-caba-bc020325427f"
      },
      "execution_count": null,
      "outputs": [
        {
          "output_type": "stream",
          "name": "stdout",
          "text": [
            "(45, 3, 15)\n",
            "(50, 10, 5)\n"
          ]
        }
      ]
    },
    {
      "cell_type": "code",
      "source": [
        "# method overloading (NOTE HERE) does not exist in python\n",
        "\n",
        "import math\n",
        "\n",
        "def calculate_area(radius):\n",
        "  return math.pi * radius ** 2 # double times = exponential operater (power of 2)\n",
        "  "
      ],
      "metadata": {
        "id": "SHGkdpECnR5Q"
      },
      "execution_count": null,
      "outputs": []
    },
    {
      "cell_type": "code",
      "source": [
        "# Optional parameters\n",
        "def calculate_area(x=None, y=None, r=None, shape='Rectangle'):\n",
        "  if shape == 'Rectangle':\n",
        "    return x * y\n",
        "  if shape == 'Circle':\n",
        "    return math.pi * r * r"
      ],
      "metadata": {
        "id": "evFvRYFhn03V"
      },
      "execution_count": null,
      "outputs": []
    },
    {
      "cell_type": "code",
      "source": [
        "# Unknown number of parameters\n",
        "# 2 Options - *args, *kwargs\n",
        "\n",
        "def make_fruit_salad(*fruits):\n",
        "  print(f\"Our fruit salad has {', '.join(fruits)}.\")\n",
        "\n",
        "make_fruit_salad('apples', 'oranges', 'grapes', 'pears')"
      ],
      "metadata": {
        "colab": {
          "base_uri": "https://localhost:8080/"
        },
        "id": "Lxoa9mVHoE6Q",
        "outputId": "4a91c974-a136-4283-a5b4-12e1271cbd9a"
      },
      "execution_count": null,
      "outputs": [
        {
          "output_type": "stream",
          "name": "stdout",
          "text": [
            "Our fruit salad has apples, oranges, grapes, pears.\n"
          ]
        }
      ]
    },
    {
      "cell_type": "code",
      "source": [
        "# kwargs\n",
        "# constructs a dictionary of key-value pairs passed by the user\n",
        "# name, age, job, etc.\n",
        "def who_am_i(**kwargs): \n",
        "  if 'name' in kwargs:\n",
        "    print(f'My name is {kwargs[\"name\"]}.')\n",
        "# so one and so forth with age and job in a similar manner"
      ],
      "metadata": {
        "id": "L7FCBBi9oZ6l"
      },
      "execution_count": null,
      "outputs": []
    },
    {
      "cell_type": "code",
      "source": [
        "# Recursive functions\n",
        "\n",
        "def fibonacci(n):\n",
        "  if(n <= 1):\n",
        "    return n\n",
        "  else:\n",
        "    return fibonacci(n - 1) + fibonacci(n-2)\n",
        "\n",
        "print([fibonacci(n) for n in range(10)])\n",
        "  "
      ],
      "metadata": {
        "colab": {
          "base_uri": "https://localhost:8080/"
        },
        "id": "jwDo4LGhohls",
        "outputId": "77e7b750-f04b-4289-9343-c001f6bb5fce"
      },
      "execution_count": null,
      "outputs": [
        {
          "output_type": "stream",
          "name": "stdout",
          "text": [
            "[0, 1, 1, 2, 3, 5, 8, 13, 21, 34]\n"
          ]
        }
      ]
    },
    {
      "cell_type": "markdown",
      "source": [
        "- Lambda functions\n",
        "- any time you use a lambda function, you could just build a larger function. It's only meant for ease of reading / saving space\n",
        "- small nameless function\n",
        "- typically 1 line\n",
        "- useful for one time use functions\n",
        "- lambda is the key word declaring the function instead of 'def' for the regular functions"
      ],
      "metadata": {
        "id": "sEMID-6cqXAo"
      }
    },
    {
      "cell_type": "code",
      "source": [
        "# START\n",
        "from re import VERBOSE\n",
        "def is_even(x):\n",
        "  return x % 2 == 0\n",
        "\n",
        "numbers = [1, 2, 3, 4, 5, 6, 7, 8, 9]\n",
        "even_numbers = list(filter(is_even, numbers))\n",
        "print(even_numbers)\n",
        "# FINISH\n",
        "\n",
        "# VS\n",
        "\n",
        "# START\n",
        "numbers = [1, 2, 3, 4, 5, 6, 7, 8, 9]\n",
        "even_numbers = list(filter(lambda x: (x % 2 == 0), numbers))\n",
        "print(even_numbers)\n",
        "# FINISH\n"
      ],
      "metadata": {
        "colab": {
          "base_uri": "https://localhost:8080/"
        },
        "id": "CPrXH7eTqBkw",
        "outputId": "655dfd2c-7bd0-470c-9f1c-09c8ff73b7b9"
      },
      "execution_count": null,
      "outputs": [
        {
          "output_type": "stream",
          "name": "stdout",
          "text": [
            "[2, 4, 6, 8]\n",
            "[2, 4, 6, 8]\n"
          ]
        }
      ]
    },
    {
      "cell_type": "code",
      "source": [
        "# map \n",
        "# column in my table that measures the amount of water in gallons\n",
        "# convert that to liters\n",
        "\n",
        "squares = list(map(lambda x: x**2, numbers))\n",
        "print(squares)\n",
        "\n",
        "# gallons_of_water = "
      ],
      "metadata": {
        "colab": {
          "base_uri": "https://localhost:8080/"
        },
        "id": "2yNl3xhBr9R-",
        "outputId": "4511238e-50e9-4794-e720-dc8659469b0f"
      },
      "execution_count": null,
      "outputs": [
        {
          "output_type": "stream",
          "name": "stdout",
          "text": [
            "[1, 4, 9, 16, 25, 36, 49, 64, 81]\n"
          ]
        }
      ]
    },
    {
      "cell_type": "code",
      "source": [
        "from functools import reduce\n",
        "\n",
        "sum = reduce((lambda x, y: x + y), numbers)\n",
        "print(sum)\n",
        "# Reduce Notes Here: https://www.geeksforgeeks.org/reduce-in-python/"
      ],
      "metadata": {
        "colab": {
          "base_uri": "https://localhost:8080/"
        },
        "id": "TOt3r9AVsKKL",
        "outputId": "1458fc6e-a2b4-4dee-f670-d69b103a63e2"
      },
      "execution_count": null,
      "outputs": [
        {
          "output_type": "stream",
          "name": "stdout",
          "text": [
            "45\n"
          ]
        }
      ]
    },
    {
      "cell_type": "code",
      "source": [],
      "metadata": {
        "id": "0fewlHHztgfQ"
      },
      "execution_count": null,
      "outputs": []
    }
  ]
}
