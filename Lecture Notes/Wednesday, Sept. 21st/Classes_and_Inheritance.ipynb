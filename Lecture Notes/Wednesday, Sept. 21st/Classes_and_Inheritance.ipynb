{
  "nbformat": 4,
  "nbformat_minor": 0,
  "metadata": {
    "colab": {
      "provenance": [],
      "authorship_tag": "ABX9TyMbfMT9AdUNvDUvvWMRBRNd",
      "include_colab_link": true
    },
    "kernelspec": {
      "name": "python3",
      "display_name": "Python 3"
    },
    "language_info": {
      "name": "python"
    }
  },
  "cells": [
    {
      "cell_type": "markdown",
      "metadata": {
        "id": "view-in-github",
        "colab_type": "text"
      },
      "source": [
        "<a href=\"https://colab.research.google.com/github/NSteckel/Data-in-Python/blob/main/Classes_and_Inheritance.ipynb\" target=\"_parent\"><img src=\"https://colab.research.google.com/assets/colab-badge.svg\" alt=\"Open In Colab\"/></a>"
      ]
    },
    {
      "cell_type": "markdown",
      "source": [
        "#### Classes"
      ],
      "metadata": {
        "id": "We3yLZvDHvLN"
      }
    },
    {
      "cell_type": "markdown",
      "source": [
        "Magic Methods in Python\n",
        "- Python Classes / Objects: https://www.w3schools.com/python/python_classes.asp\n",
        "- __eq__ Method: https://www.pythontutorial.net/python-oop/python-__eq__/\n",
        "- Python Magic Method: https://www.geeksforgeeks.org/dunder-magic-methods-python/"
      ],
      "metadata": {
        "id": "7XqklZZLFpF6"
      }
    },
    {
      "cell_type": "code",
      "source": [
        "class Person: \n",
        "  def __init__(self, name, age, **kwargs): # note for kwargs\n",
        "    self.name = name\n",
        "    self.age = age\n",
        "\n",
        "  def __eq__(self, other):\n",
        "    if (self.name == other.name) and (self.age == other.age):\n",
        "      return True\n",
        "    else:\n",
        "      return False\n",
        "  def __str__(self): \n",
        "    return f\"{self.name} ({self.age})\"\n",
        "\n",
        "  def introduce(self):\n",
        "    print(f\"Hi my name is {self.name} and I am {self.age} years old.\")\n",
        "\n",
        "# self refers to the current instance of the class (instance properties of a class)"
      ],
      "metadata": {
        "id": "yPMLssCxGDbd"
      },
      "execution_count": null,
      "outputs": []
    },
    {
      "cell_type": "code",
      "source": [
        "john = Person('John', 22)\n",
        "john2 = Person('John', 22)\n",
        "\n",
        "john == john2 # goes back to the __eq__ magic method\n"
      ],
      "metadata": {
        "id": "UfwqCmUVGsTm"
      },
      "execution_count": null,
      "outputs": []
    },
    {
      "cell_type": "code",
      "source": [
        "john.introduce() # self class, cell five 'def introduce'"
      ],
      "metadata": {
        "colab": {
          "base_uri": "https://localhost:8080/"
        },
        "id": "Lq5T9Mg6GzNL",
        "outputId": "78670d27-be21-45e2-d66f-491f49d5f3f0"
      },
      "execution_count": null,
      "outputs": [
        {
          "output_type": "stream",
          "name": "stdout",
          "text": [
            "Hi my name is John and I am 22 years old.\n"
          ]
        }
      ]
    },
    {
      "cell_type": "markdown",
      "source": [
        "Check out decorators in Python. \\|-0-0|/"
      ],
      "metadata": {
        "id": "EZi4oBItInb7"
      }
    },
    {
      "cell_type": "markdown",
      "source": [
        "- Class vs Static Methods: https://www.geeksforgeeks.org/class-method-vs-static-method-python/?ref=lbp\n",
        "- Class vs Static Variables: https://www.geeksforgeeks.org/g-fact-34-class-or-static-variables-in-python/?ref=lbp\n",
        "- Inheritance: https://www.geeksforgeeks.org/inheritance-in-python/?ref=lbp\n",
        "- General Stuff to check out: https://www.geeksforgeeks.org/reduce-in-python/\n"
      ],
      "metadata": {
        "id": "nuiYsUtTMJcH"
      }
    },
    {
      "cell_type": "code",
      "source": [
        "@staticmethod\n",
        "def is_adult(age):\n",
        "  return age > 18\n"
      ],
      "metadata": {
        "id": "NWDRe2u7H3kW"
      },
      "execution_count": null,
      "outputs": []
    },
    {
      "cell_type": "code",
      "source": [
        "# Person.is_adult(john.age)"
      ],
      "metadata": {
        "colab": {
          "base_uri": "https://localhost:8080/",
          "height": 164
        },
        "id": "mTLN0OnvLtaW",
        "outputId": "d74041f0-7b81-4f09-9646-fd5227f50ecb"
      },
      "execution_count": null,
      "outputs": [
        {
          "output_type": "error",
          "ename": "AttributeError",
          "evalue": "ignored",
          "traceback": [
            "\u001b[0;31m---------------------------------------------------------------------------\u001b[0m",
            "\u001b[0;31mAttributeError\u001b[0m                            Traceback (most recent call last)",
            "\u001b[0;32m<ipython-input-17-5d3c06dbafad>\u001b[0m in \u001b[0;36m<module>\u001b[0;34m\u001b[0m\n\u001b[0;32m----> 1\u001b[0;31m \u001b[0mPerson\u001b[0m\u001b[0;34m.\u001b[0m\u001b[0mis_adult\u001b[0m\u001b[0;34m(\u001b[0m\u001b[0mjohn\u001b[0m\u001b[0;34m.\u001b[0m\u001b[0mage\u001b[0m\u001b[0;34m)\u001b[0m\u001b[0;34m\u001b[0m\u001b[0;34m\u001b[0m\u001b[0m\n\u001b[0m",
            "\u001b[0;31mAttributeError\u001b[0m: type object 'Person' has no attribute 'is_adult'"
          ]
        }
      ]
    },
    {
      "cell_type": "markdown",
      "source": [
        "#### Inheritance"
      ],
      "metadata": {
        "id": "1GVdkx40N3B7"
      }
    },
    {
      "cell_type": "code",
      "source": [
        "# president extends person, needs defined name and age from earlier definition of Person class\n",
        "class President(Person): \n",
        "\n",
        "  # pass indicates not done yet, operates as a place holder makes the defined thing do nothing when run"
      ],
      "metadata": {
        "id": "Gga-G194L2MG"
      },
      "execution_count": null,
      "outputs": []
    },
    {
      "cell_type": "code",
      "source": [
        "biden = President('Joe Biden', 75)"
      ],
      "metadata": {
        "id": "nR3MmzDXOAFo"
      },
      "execution_count": null,
      "outputs": []
    },
    {
      "cell_type": "code",
      "source": [],
      "metadata": {
        "id": "mraoEOzHODRf"
      },
      "execution_count": null,
      "outputs": []
    }
  ]
}
