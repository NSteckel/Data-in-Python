{
  "nbformat": 4,
  "nbformat_minor": 0,
  "metadata": {
    "colab": {
      "provenance": [],
      "authorship_tag": "ABX9TyODc+Wsvp7F9NM3P4NbD/+i",
      "include_colab_link": true
    },
    "kernelspec": {
      "name": "python3",
      "display_name": "Python 3"
    },
    "language_info": {
      "name": "python"
    }
  },
  "cells": [
    {
      "cell_type": "markdown",
      "metadata": {
        "id": "view-in-github",
        "colab_type": "text"
      },
      "source": [
        "<a href=\"https://colab.research.google.com/github/NSteckel/Data-in-Python/blob/main/Error_Handling.ipynb\" target=\"_parent\"><img src=\"https://colab.research.google.com/assets/colab-badge.svg\" alt=\"Open In Colab\"/></a>"
      ]
    },
    {
      "cell_type": "markdown",
      "source": [
        "# Error Handling in Python"
      ],
      "metadata": {
        "id": "oyMe1OMacibt"
      }
    },
    {
      "cell_type": "markdown",
      "source": [
        "(Originally meant for Tuesday, the 20th)"
      ],
      "metadata": {
        "id": "xbLO-EjCclvR"
      }
    },
    {
      "cell_type": "markdown",
      "source": [
        "- User Inputs & external systems\n",
        "- Typically, you should not be outputting details to the user\n",
        "- Try except block (similar to the try catch block in other languages)\n",
        "-Typically these should be added in after the script works/can be run"
      ],
      "metadata": {
        "id": "2DbU-K2zczIv"
      }
    },
    {
      "cell_type": "code",
      "source": [
        "#Syntax:\n",
        "try:\n",
        "  # code to try\n",
        "  print(x)\n",
        "except:\n",
        "  # action to be taken in event of exception\n",
        "  print('x is undefined')\n",
        "\n",
        "# we can catch specific exceptions and multiple types\n",
        "\n",
        "x = input()\n",
        "y = input()\n",
        "\n",
        "try:\n",
        "  print(str(x/y))\n",
        "except TypeError:\n",
        "  print('Only input numbers.')\n",
        "except ArithmeticError:\n",
        "  print('Infinity')\n",
        "except:\n",
        "  print('Invalid Input')\n",
        "finally: # This will print regardless of errors\n",
        "  print('This is the finale')\n",
        "\n",
        "# The first error encountered will be thrown, no more will be triggered after that.\n",
        "# The order errors are caught in will be very important.\n",
        "# General error should go at the end (except: blank) -> print('General Error')"
      ],
      "metadata": {
        "colab": {
          "base_uri": "https://localhost:8080/"
        },
        "id": "H48_AifDdL3C",
        "outputId": "7f742e4e-2647-4faa-ce9a-244573366b7c"
      },
      "execution_count": null,
      "outputs": [
        {
          "output_type": "stream",
          "name": "stdout",
          "text": [
            "8\n",
            "44\n",
            "a\n",
            "Only input numbers.\n",
            "This is the finale\n"
          ]
        }
      ]
    },
    {
      "cell_type": "code",
      "execution_count": null,
      "metadata": {
        "id": "DAcg-zkFcfBE"
      },
      "outputs": [],
      "source": [
        "try:\n",
        "  f = open('demofile.txt')\n",
        "  f.write('Lorem Ipsum')\n",
        "except FileNotFoundError:\n",
        "  with open('demofile.txt', 'wt') as f:\n",
        "    f.write('Lorem Ipsum')\n"
      ]
    }
  ]
}
