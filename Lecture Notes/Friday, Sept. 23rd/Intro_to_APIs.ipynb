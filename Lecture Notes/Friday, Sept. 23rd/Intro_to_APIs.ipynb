{
  "nbformat": 4,
  "nbformat_minor": 0,
  "metadata": {
    "colab": {
      "provenance": [],
      "authorship_tag": "ABX9TyP0t8CQ+lJ6zd9zvE1ZjyYY",
      "include_colab_link": true
    },
    "kernelspec": {
      "name": "python3",
      "display_name": "Python 3"
    },
    "language_info": {
      "name": "python"
    }
  },
  "cells": [
    {
      "cell_type": "markdown",
      "metadata": {
        "id": "view-in-github",
        "colab_type": "text"
      },
      "source": [
        "<a href=\"https://colab.research.google.com/github/NSteckel/Data-in-Python/blob/main/Intro_to_APIs.ipynb\" target=\"_parent\"><img src=\"https://colab.research.google.com/assets/colab-badge.svg\" alt=\"Open In Colab\"/></a>"
      ]
    },
    {
      "cell_type": "markdown",
      "source": [
        "#### APIs"
      ],
      "metadata": {
        "id": "v9mlmMhG38Wo"
      }
    },
    {
      "cell_type": "markdown",
      "source": [
        "- APIs\n",
        "- Application Programming Interface\n",
        "- Something that allows apps to communicate programmatically\n",
        "\n",
        "- Web APIs\n",
        "\n",
        "- Most common = RESTful API\n",
        "  - Representational State Transfer\n",
        "  - JSON format - browser compatible\n",
        "  - Simplest APIs, great starting point\n",
        "\n",
        "- SOAP API\n",
        "  - Simple Object Access Protocol\n",
        "  - Provide a WSDL schema file\n",
        "\n",
        "- XML - RPC\n",
        "\n",
        "- WebSocket\n",
        "  - Two way communication\n",
        "  - Event-driven responses or messages\n",
        "  - No polling\n",
        "\n",
        "---\n",
        "\n"
      ],
      "metadata": {
        "id": "5QYBbhMS4BPV"
      }
    },
    {
      "cell_type": "markdown",
      "source": [
        "#### API Requests\n",
        "- Endpoint: URL of the API being called \n",
        "  - differs based on request type\n",
        "  - provide a base URL and specific endpoint\n",
        "- Method: what type of request is being made\n",
        "  - GET- retrieve info from the API\n",
        "  - POST- Create an API resource\n",
        "  - PUT- Update an API resource\n",
        "  - DELETE- Deletes a resource\n",
        "- Header: Identifying info for the request\n",
        "  - Lots of metadata\n",
        "- Body:\n",
        "  - data/payload\n",
        "  - Search/filtering parameters\n",
        "\n",
        "- Authentication methods\n",
        "  - Basic authentication: username/password\n",
        "- API key: \n",
        "  - Hashed password: encryption standard\n",
        "  - Issued by the API owner\n",
        "  - You won't use the same API key for multiple applications\n",
        "  - Multiple ways to pass an API key\n",
        "    - Header\n",
        "    - Basic authentication field\n",
        "    - Body\n",
        "\n",
        "OAuth Token\n",
        "- Most secure\n",
        "- OAuth 2.0 standard\n",
        "- Used to access user data \n",
        "- Often tied to a user account\n",
        "- Sent similar to an API key\n",
        "- Refresh token -> licensed for a set time period (may or may not be able to request a refresh of said token)\n",
        "- Varies some, so check documentation\n",
        "- Frequently used for inter-application requests"
      ],
      "metadata": {
        "id": "1duVO7Qu5BDi"
      }
    },
    {
      "cell_type": "code",
      "execution_count": null,
      "metadata": {
        "colab": {
          "base_uri": "https://localhost:8080/"
        },
        "id": "IlWyTFni3wTP",
        "outputId": "5dfb533c-2c54-4b58-b0d2-d065a8d2b934"
      },
      "outputs": [
        {
          "output_type": "stream",
          "name": "stdout",
          "text": [
            "https://api.nytimes.com/svc/books/v3//lists/current/hardcover-fiction.json\n"
          ]
        }
      ],
      "source": [
        "import requests # used for python api calls\n",
        "import os\n",
        "\n",
        "base_url = 'https://api.nytimes.com/svc/'\n",
        "books_api = 'books/v3/'\n",
        "lists_endpoint = '/lists/current/hardcover-fiction.json'\n",
        "\n",
        "books_url = base_url + books_api + lists_endpoint\n",
        "\n",
        "print(books_url)\n",
        "\n",
        "# api-key = Cx0U70APZercvkU6WpOYGAggTJ94ZwOb"
      ]
    },
    {
      "cell_type": "code",
      "source": [
        "# construct parameters dictionary\n",
        "\n",
        "# api key listed above, check notes later\n",
        "\n",
        "os.environ['api-key'] = 'Cx0U70APZercvkU6WpOYGAggTJ94ZwOb'\n",
        "\n",
        "api_key = os.environ['api-key'] # used to set environment variables\n",
        "params = {'api-key': api_key} \n",
        "\n",
        "response = requests.get(books_url, params)"
      ],
      "metadata": {
        "id": "1jUn0jUT7YgH"
      },
      "execution_count": null,
      "outputs": []
    },
    {
      "cell_type": "code",
      "source": [
        "data = response.json()\n",
        "\n",
        "#book_titles = [book['title'] for book in data]"
      ],
      "metadata": {
        "id": "R2yDK6XS7twW"
      },
      "execution_count": null,
      "outputs": []
    },
    {
      "cell_type": "code",
      "source": [
        "book_titles = [book['title'] for book in data['results']['books']]\n",
        "book_titles"
      ],
      "metadata": {
        "colab": {
          "base_uri": "https://localhost:8080/"
        },
        "id": "uCk2hW-lCG8V",
        "outputId": "664b4d27-9e09-46b2-9529-e1f2835f3f0c"
      },
      "execution_count": null,
      "outputs": [
        {
          "output_type": "execute_result",
          "data": {
            "text/plain": [
              "['FAIRY TALE',\n",
              " 'THE BUTCHER AND THE WREN',\n",
              " 'VINCE FLYNN: OATH OF LOYALTY',\n",
              " 'NONA THE NINTH',\n",
              " 'BLOWBACK',\n",
              " 'ALL GOOD PEOPLE HERE',\n",
              " 'CARRIE SOTO IS BACK',\n",
              " 'THE 6:20 MAN',\n",
              " 'LESSONS IN CHEMISTRY',\n",
              " 'THE MARRIAGE PORTRAIT',\n",
              " 'DESPERATION IN DEATH',\n",
              " \"CLIVE CUSSLER'S HELLBURNER\",\n",
              " 'THE LAST THING HE TOLD ME',\n",
              " 'LESSONS',\n",
              " 'THE MIDNIGHT LIBRARY']"
            ]
          },
          "metadata": {},
          "execution_count": 9
        }
      ]
    },
    {
      "cell_type": "markdown",
      "source": [
        "#### Errors / Security Issues\n",
        "\n",
        "- Check status code of response\n",
        "  - 100s = Informational Responses\n",
        "  - 200s = Successful Response\n",
        "  - 300s = Redirection messages\n",
        "  - 400s = Client error\n",
        "    - 400 = Bad request\n",
        "    - 401 = Unauthorized\n",
        "    - 402 = Payment required\n",
        "    - 403 = Forbidden\n",
        "    - 404 = Not found\n",
        "  - 500s = Server error\n",
        "    - 500 = Internal server error\n",
        "    - 501 = Not implemented\n",
        "    - 503 = Service unavailable\n",
        "    - 504 = Gateway timeout\n"
      ],
      "metadata": {
        "id": "7UbMDDcvEqFv"
      }
    },
    {
      "cell_type": "markdown",
      "source": [
        "Managing API Keys and OAuth Tokens\n",
        "\n",
        "- In-script storage - hard coded\n",
        "  - Security Risks - Anyone with access to your script gets your API key\n",
        "  - Fine for scripts only on local machine\n",
        "  - Legal penalties/fines associated with PHI/PII\n",
        "    - git commits\n",
        "\n",
        "- stored in a file\n",
        "- add the file to your .gitignore!!\n",
        "\n",
        "Use a cloud based secrets manager\n",
        "- AWS- Key Management Service\n",
        "- Azure- Key Vault\n"
      ],
      "metadata": {
        "id": "4AFKaNORFey1"
      }
    },
    {
      "cell_type": "code",
      "source": [],
      "metadata": {
        "id": "SKMaUFOkCQLs"
      },
      "execution_count": null,
      "outputs": []
    }
  ]
}
