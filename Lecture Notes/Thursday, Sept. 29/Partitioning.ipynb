{
  "nbformat": 4,
  "nbformat_minor": 0,
  "metadata": {
    "colab": {
      "provenance": [],
      "authorship_tag": "ABX9TyNb3oe5Usv9NL2KdCkNW3Rs",
      "include_colab_link": true
    },
    "kernelspec": {
      "name": "python3",
      "display_name": "Python 3"
    },
    "language_info": {
      "name": "python"
    }
  },
  "cells": [
    {
      "cell_type": "markdown",
      "metadata": {
        "id": "view-in-github",
        "colab_type": "text"
      },
      "source": [
        "<a href=\"https://colab.research.google.com/github/NSteckel/Data-in-Python/blob/main/Partitioning.ipynb\" target=\"_parent\"><img src=\"https://colab.research.google.com/assets/colab-badge.svg\" alt=\"Open In Colab\"/></a>"
      ]
    },
    {
      "cell_type": "markdown",
      "source": [
        "# Partitioning Overview\n",
        "- List Partitioning\n",
        "- Range Partitioning\n",
        "- Hash Partitioning\n",
        "- Repartitioning\n",
        "- Sub-partitioning\n",
        "\n",
        "Partitioning: The idea of splitting up / dividing data into different parts, usually used when talking about splitting data on physical hard drives\n",
        "\n",
        "Horizontal Scaling: Scaling up storage with smaller, more manageable extensions of storage/hard drive (10 1TB drive vs 1 10TB drives)\n",
        "\n"
      ],
      "metadata": {
        "id": "DKHSQmR9fGeR"
      }
    },
    {
      "cell_type": "markdown",
      "source": [
        "#### Partitioning Strategies\n",
        "- How does your partition schema scale?\n",
        "- Relative size of the partitions\n",
        "- Query patterns affect partitioning schema\n",
        "- Changing partition strategy\n",
        "\n",
        "- Tables can be partitioned on the primary key (recommended) or not\n",
        "- Mix and Match partitioning - partition by year, each year gets partitioned by quarter\n"
      ],
      "metadata": {
        "id": "k_RnFoZqfW-8"
      }
    },
    {
      "cell_type": "markdown",
      "source": [
        "#### Indexing\n",
        "- Global Index- Index on the main table\n",
        "- Secondary Index- Index on a partition\n",
        "- Sales data partitioned by year\n",
        "- Index ALL sales by amount/department/date\n",
        "- If I add an index to the current year by amount/department/date\n",
        "\n",
        "   \n",
        "Sales partitioned by department:\n",
        "- Car maintenance department\n",
        "- Analytics team is heavily analyzing the sales from this department\n",
        "- Local/Secondary Index on the car department partition\n",
        "\n",
        "- Sales table\n",
        "- sub tables for car/sports/home/food\n",
        "\n",
        "###### List Partitioning\n",
        "- create partitions based on a list of values partition by department: car/sports/home/food"
      ],
      "metadata": {
        "id": "mW63Yng_jyNz"
      }
    },
    {
      "cell_type": "markdown",
      "source": [
        "Updates to base tables(s) will effect partitions / partitioned data"
      ],
      "metadata": {
        "id": "tEs9uUfslNRG"
      }
    }
  ]
}
